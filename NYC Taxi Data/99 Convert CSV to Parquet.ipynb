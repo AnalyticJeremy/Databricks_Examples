{
 "cells": [
  {
   "cell_type": "markdown",
   "metadata": {
    "application/vnd.databricks.v1+cell": {
     "cellMetadata": {},
     "inputWidgets": {},
     "nuid": "55427d18-5bb6-415f-82eb-439f41e6d5ea",
     "showTitle": false,
     "title": ""
    }
   },
   "source": [
    "![NYC Logo](https://www1.nyc.gov/assets/tlc/images/content/pages/home/nyc-tlc-logo.png)\n",
    "\n",
    "# Convert CSV's with NYC Taxi Data to Parquet\n",
    "\n",
    "> **! NOTICE !** In May, 2022, the NYC Taxi Commission changed the format they use to share their data.  Previously, the data was shared in CSV format.\n",
    "Now it's shared as Parquet files.  This is the ***old*** code that converted the CSV files.  Don't use this code.  It's only here for historical\n",
    "reference.\n",
    "\n",
    "This notebook uses Spark to read the NYC Taxi Data CSV files and convert all of the data into a Parquet file.  (*Technically*, it's creating a Databricks Delta file, but that is just\n",
    "regular ol' Parquet with some additional sidecar data.)\n",
    "\n",
    "We want to combine all of the CSV's into one, master dataset.  However, the schemas for the CSV vary between taxi types and change over time within the taxi type.  Therefore, we\n",
    "must devote some effort to standardizing the schemas to one, common schema."
   ]
  },
  {
   "cell_type": "markdown",
   "metadata": {
    "application/vnd.databricks.v1+cell": {
     "cellMetadata": {},
     "inputWidgets": {},
     "nuid": "71c23c95-7db2-43df-a23f-dfe597bdf560",
     "showTitle": false,
     "title": ""
    }
   },
   "source": [
    "First, specify the location of the CSV files (the input for this process) and the location where we will store the Parquet output."
   ]
  },
  {
   "cell_type": "code",
   "execution_count": 0,
   "metadata": {
    "application/vnd.databricks.v1+cell": {
     "cellMetadata": {},
     "inputWidgets": {},
     "nuid": "89f97c62-a04d-4b46-b5a7-bebb387fccc0",
     "showTitle": false,
     "title": ""
    }
   },
   "outputs": [
    {
     "output_type": "display_data",
     "data": {
      "text/html": [
       "<style scoped>\n",
       "  .ansiout {\n",
       "    display: block;\n",
       "    unicode-bidi: embed;\n",
       "    white-space: pre-wrap;\n",
       "    word-wrap: break-word;\n",
       "    word-break: break-all;\n",
       "    font-family: \"Source Code Pro\", \"Menlo\", monospace;;\n",
       "    font-size: 13px;\n",
       "    color: #555;\n",
       "    margin-left: 4px;\n",
       "    line-height: 19px;\n",
       "  }\n",
       "</style>\n",
       "<div class=\"ansiout\"></div>"
      ]
     },
     "metadata": {
      "application/vnd.databricks.v1+output": {
       "addedWidgets": {},
       "arguments": {},
       "data": "<div class=\"ansiout\"></div>",
       "datasetInfos": [],
       "metadata": {},
       "removedWidgets": [],
       "type": "html"
      }
     },
     "output_type": "display_data"
    }
   ],
   "source": [
    "csv_path = \"/mnt/taxi/csv\"\n",
    "parquet_path = \"/mnt/taxi/parquet\""
   ]
  },
  {
   "cell_type": "markdown",
   "metadata": {
    "application/vnd.databricks.v1+cell": {
     "cellMetadata": {},
     "inputWidgets": {},
     "nuid": "990b8153-5588-4c53-aff4-047d64f9702f",
     "showTitle": false,
     "title": ""
    }
   },
   "source": [
    "Next, we create a Delta table with the schema we ultimately want for our dataset.  This schema was designed by analyzing the available columns in all of the CSV files and determining all of the possible data points we need to capture."
   ]
  },
  {
   "cell_type": "code",
   "execution_count": 0,
   "metadata": {
    "application/vnd.databricks.v1+cell": {
     "cellMetadata": {},
     "inputWidgets": {},
     "nuid": "b58179bc-bcab-4c09-b784-df9da7bffd93",
     "showTitle": false,
     "title": ""
    }
   },
   "outputs": [
    {
     "output_type": "display_data",
     "data": {
      "text/html": [
       "<style scoped>\n",
       "  .ansiout {\n",
       "    display: block;\n",
       "    unicode-bidi: embed;\n",
       "    white-space: pre-wrap;\n",
       "    word-wrap: break-word;\n",
       "    word-break: break-all;\n",
       "    font-family: \"Source Code Pro\", \"Menlo\", monospace;;\n",
       "    font-size: 13px;\n",
       "    color: #555;\n",
       "    margin-left: 4px;\n",
       "    line-height: 19px;\n",
       "  }\n",
       "</style>\n",
       "<div class=\"ansiout\"><span class=\"ansired\">Out[</span><span class=\"ansired\">2</span><span class=\"ansired\">]: </span>DataFrame[]\n",
       "</div>"
      ]
     },
     "metadata": {
      "application/vnd.databricks.v1+output": {
       "addedWidgets": {},
       "arguments": {},
       "data": "<div class=\"ansiout\"><span class=\"ansired\">Out[</span><span class=\"ansired\">2</span><span class=\"ansired\">]: </span>DataFrame[]\n</div>",
       "datasetInfos": [],
       "metadata": {},
       "removedWidgets": [],
       "type": "html"
      }
     },
     "output_type": "display_data"
    }
   ],
   "source": [
    "spark.sql(\"DROP TABLE IF EXISTS taxi\")\n",
    "\n",
    "sql_statement = '''\n",
    "  CREATE TABLE taxi (\n",
    "    taxi_type string NOT NULL,\n",
    "    year int NOT NULL,\n",
    "    filename string NOT NULL,\n",
    "    dispatching_base_num string,\n",
    "    vendor_id string,\n",
    "    vendor_name string,\n",
    "    pickup_datetime timestamp,\n",
    "    pickup_location_id string,\n",
    "    pickup_latitude decimal(9, 5),\n",
    "    pickup_longitude decimal(9, 5),\n",
    "    dropoff_datetime timestamp,\n",
    "    dropoff_location_id string,\n",
    "    dropoff_latitude decimal(9, 5),\n",
    "    dropoff_longitude decimal(9, 5),\n",
    "    passenger_count integer,\n",
    "    trip_distance decimal(9, 5),\n",
    "    trip_type string,\n",
    "    payment_type string,\n",
    "    rate_code string,\n",
    "    shared_ride string,\n",
    "    store_and_forward string,\n",
    "    fare_amount decimal(8, 2),\n",
    "    extra decimal(8, 2),\n",
    "    mta_tax decimal(8, 2),\n",
    "    tip_amount decimal(8, 2),\n",
    "    tolls_amount decimal(8, 2),\n",
    "    surcharge decimal(8, 2),\n",
    "    ehail_fee decimal(8, 2),\n",
    "    total_amount decimal(8, 2)\n",
    "  )\n",
    "  USING DELTA\n",
    "  PARTITIONED BY (taxi_type, year)\n",
    "  LOCATION '{}'\n",
    "'''.format(parquet_path)\n",
    "\n",
    "spark.sql(sql_statement)"
   ]
  },
  {
   "cell_type": "markdown",
   "metadata": {
    "application/vnd.databricks.v1+cell": {
     "cellMetadata": {},
     "inputWidgets": {},
     "nuid": "b1bc0a85-3c0d-4048-8669-19e943e95677",
     "showTitle": false,
     "title": ""
    }
   },
   "source": [
    "Here's a little function that will recursively search subdirectories in the DBFS and return all of the files in the directory tree."
   ]
  },
  {
   "cell_type": "code",
   "execution_count": 0,
   "metadata": {
    "application/vnd.databricks.v1+cell": {
     "cellMetadata": {},
     "inputWidgets": {},
     "nuid": "f017593a-eaa8-4307-9577-e20edff232d2",
     "showTitle": false,
     "title": ""
    }
   },
   "outputs": [
    {
     "output_type": "display_data",
     "data": {
      "text/html": [
       "<style scoped>\n",
       "  .ansiout {\n",
       "    display: block;\n",
       "    unicode-bidi: embed;\n",
       "    white-space: pre-wrap;\n",
       "    word-wrap: break-word;\n",
       "    word-break: break-all;\n",
       "    font-family: \"Source Code Pro\", \"Menlo\", monospace;;\n",
       "    font-size: 13px;\n",
       "    color: #555;\n",
       "    margin-left: 4px;\n",
       "    line-height: 19px;\n",
       "  }\n",
       "</style>\n",
       "<div class=\"ansiout\"></div>"
      ]
     },
     "metadata": {
      "application/vnd.databricks.v1+output": {
       "addedWidgets": {},
       "arguments": {},
       "data": "<div class=\"ansiout\"></div>",
       "datasetInfos": [],
       "metadata": {},
       "removedWidgets": [],
       "type": "html"
      }
     },
     "output_type": "display_data"
    }
   ],
   "source": [
    "def getFiles(path):\n",
    "  files = dbutils.fs.ls(path)\n",
    "  output = []\n",
    "  \n",
    "  for f in files:\n",
    "    if f.name.endswith(\"/\"):\n",
    "      output.extend(getFiles(f.path))\n",
    "    else:\n",
    "      output.append(f)\n",
    "  \n",
    "  return(output)"
   ]
  },
  {
   "cell_type": "markdown",
   "metadata": {
    "application/vnd.databricks.v1+cell": {
     "cellMetadata": {},
     "inputWidgets": {},
     "nuid": "ae903191-a0b7-458a-b348-0c5ddf679788",
     "showTitle": false,
     "title": ""
    }
   },
   "source": [
    "Now we do the real work!\n",
    "\n",
    "1. Recursively get all of the CSV files from the input location\n",
    "2. Loop through all of the files and read each file in as a Spark dataframe.  Don't apply any schema; just read whatever columns we find as strings\n",
    "3. We add new columns to each dataframe containing the taxi type and the name of the CSV file from which the data was read\n",
    "4. Some of the CSV files have leading spaces in the column names.  We rename those columns to remove those spaces and to convert all column names to lowercase (for consistency)\n",
    "5. The names of the columns can vary between files.  So we've hard-coded a mapping to convert column names to a standard name.\n",
    "6. For any columns with a name ending in \"datetime\", parse the string contents of the column into a timestamp\n",
    "7. Add a new column by extracting the year from the `pickup_datetime` column\n",
    "8. Compare the schema of our dataframe to the target Delta table.  If there are any columns missing from our dataframe, add them with `null` values.\n",
    "9. Loop through all of the columns in our dataframe.  If a column's datatype doesn't match the datatype in the target Delta table, cast the column to the appropriate datatype.\n",
    "10. Reorder the columns in our dataframe to match the order of columns in the target Delta table.\n",
    "11. At last!  We insert the dataframe into the Delta table.  This writes the data out as Parquet in our target location.\n",
    "12. Go back to Step 2 and process the next CSV file."
   ]
  },
  {
   "cell_type": "code",
   "execution_count": 0,
   "metadata": {
    "application/vnd.databricks.v1+cell": {
     "cellMetadata": {},
     "inputWidgets": {},
     "nuid": "dbb3c5a6-7bca-4a6d-95eb-61ed5af18a21",
     "showTitle": false,
     "title": ""
    }
   },
   "outputs": [
    {
     "output_type": "display_data",
     "data": {
      "text/html": [
       "<style scoped>\n",
       "  .ansiout {\n",
       "    display: block;\n",
       "    unicode-bidi: embed;\n",
       "    white-space: pre-wrap;\n",
       "    word-wrap: break-word;\n",
       "    word-break: break-all;\n",
       "    font-family: \"Source Code Pro\", \"Menlo\", monospace;;\n",
       "    font-size: 13px;\n",
       "    color: #555;\n",
       "    margin-left: 4px;\n",
       "    line-height: 19px;\n",
       "  }\n",
       "</style>\n",
       "<div class=\"ansiout\">Processing file FileInfo(path=&apos;dbfs:/mnt/taxi/csv/fhv/2015-01.csv&apos;, name=&apos;2015-01.csv&apos;, size=85733063)\n",
       "Processing file FileInfo(path=&apos;dbfs:/mnt/taxi/csv/fhv/2015-02.csv&apos;, name=&apos;2015-02.csv&apos;, size=97863482)\n",
       "Processing file FileInfo(path=&apos;dbfs:/mnt/taxi/csv/fhv/2015-03.csv&apos;, name=&apos;2015-03.csv&apos;, size=102220197)\n",
       "Processing file FileInfo(path=&apos;dbfs:/mnt/taxi/csv/fhv/2015-04.csv&apos;, name=&apos;2015-04.csv&apos;, size=121250461)\n",
       "Processing file FileInfo(path=&apos;dbfs:/mnt/taxi/csv/fhv/2015-05.csv&apos;, name=&apos;2015-05.csv&apos;, size=133469666)\n",
       "Processing file FileInfo(path=&apos;dbfs:/mnt/taxi/csv/fhv/2015-06.csv&apos;, name=&apos;2015-06.csv&apos;, size=132209226)\n",
       "Processing file FileInfo(path=&apos;dbfs:/mnt/taxi/csv/fhv/2015-07.csv&apos;, name=&apos;2015-07.csv&apos;, size=137153004)\n",
       "Processing file FileInfo(path=&apos;dbfs:/mnt/taxi/csv/fhv/2015-08.csv&apos;, name=&apos;2015-08.csv&apos;, size=164291700)\n",
       "Processing file FileInfo(path=&apos;dbfs:/mnt/taxi/csv/fhv/2015-09.csv&apos;, name=&apos;2015-09.csv&apos;, size=205607912)\n",
       "Processing file FileInfo(path=&apos;dbfs:/mnt/taxi/csv/fhv/2015-10.csv&apos;, name=&apos;2015-10.csv&apos;, size=267154747)\n",
       "Processing file FileInfo(path=&apos;dbfs:/mnt/taxi/csv/fhv/2015-11.csv&apos;, name=&apos;2015-11.csv&apos;, size=259214640)\n",
       "Processing file FileInfo(path=&apos;dbfs:/mnt/taxi/csv/fhv/2015-12.csv&apos;, name=&apos;2015-12.csv&apos;, size=271987599)\n",
       "Processing file FileInfo(path=&apos;dbfs:/mnt/taxi/csv/fhv/2016-01.csv&apos;, name=&apos;2016-01.csv&apos;, size=269366796)\n",
       "Processing file FileInfo(path=&apos;dbfs:/mnt/taxi/csv/fhv/2016-02.csv&apos;, name=&apos;2016-02.csv&apos;, size=292747091)\n",
       "Processing file FileInfo(path=&apos;dbfs:/mnt/taxi/csv/fhv/2016-03.csv&apos;, name=&apos;2016-03.csv&apos;, size=299642308)\n",
       "Processing file FileInfo(path=&apos;dbfs:/mnt/taxi/csv/fhv/2016-04.csv&apos;, name=&apos;2016-04.csv&apos;, size=315566565)\n",
       "Processing file FileInfo(path=&apos;dbfs:/mnt/taxi/csv/fhv/2016-05.csv&apos;, name=&apos;2016-05.csv&apos;, size=334436403)\n",
       "Processing file FileInfo(path=&apos;dbfs:/mnt/taxi/csv/fhv/2016-06.csv&apos;, name=&apos;2016-06.csv&apos;, size=334753407)\n",
       "Processing file FileInfo(path=&apos;dbfs:/mnt/taxi/csv/fhv/2016-07.csv&apos;, name=&apos;2016-07.csv&apos;, size=343027537)\n",
       "Processing file FileInfo(path=&apos;dbfs:/mnt/taxi/csv/fhv/2016-08.csv&apos;, name=&apos;2016-08.csv&apos;, size=348771009)\n",
       "Processing file FileInfo(path=&apos;dbfs:/mnt/taxi/csv/fhv/2016-09.csv&apos;, name=&apos;2016-09.csv&apos;, size=364401686)\n",
       "Processing file FileInfo(path=&apos;dbfs:/mnt/taxi/csv/fhv/2016-10.csv&apos;, name=&apos;2016-10.csv&apos;, size=392966473)\n",
       "Processing file FileInfo(path=&apos;dbfs:/mnt/taxi/csv/fhv/2016-11.csv&apos;, name=&apos;2016-11.csv&apos;, size=386130495)\n",
       "Processing file FileInfo(path=&apos;dbfs:/mnt/taxi/csv/fhv/2016-12.csv&apos;, name=&apos;2016-12.csv&apos;, size=430102704)\n",
       "Processing file FileInfo(path=&apos;dbfs:/mnt/taxi/csv/fhv/2017-01.csv&apos;, name=&apos;2017-01.csv&apos;, size=449961921)\n",
       "Processing file FileInfo(path=&apos;dbfs:/mnt/taxi/csv/fhv/2017-02.csv&apos;, name=&apos;2017-02.csv&apos;, size=437760457)\n",
       "Processing file FileInfo(path=&apos;dbfs:/mnt/taxi/csv/fhv/2017-03.csv&apos;, name=&apos;2017-03.csv&apos;, size=517512752)\n",
       "Processing file FileInfo(path=&apos;dbfs:/mnt/taxi/csv/fhv/2017-04.csv&apos;, name=&apos;2017-04.csv&apos;, size=486596109)\n",
       "Processing file FileInfo(path=&apos;dbfs:/mnt/taxi/csv/fhv/2017-05.csv&apos;, name=&apos;2017-05.csv&apos;, size=509232843)\n",
       "Processing file FileInfo(path=&apos;dbfs:/mnt/taxi/csv/fhv/2017-06.csv&apos;, name=&apos;2017-06.csv&apos;, size=836353639)\n",
       "Processing file FileInfo(path=&apos;dbfs:/mnt/taxi/csv/fhv/2017-07.csv&apos;, name=&apos;2017-07.csv&apos;, size=1060291820)\n",
       "Processing file FileInfo(path=&apos;dbfs:/mnt/taxi/csv/fhv/2017-08.csv&apos;, name=&apos;2017-08.csv&apos;, size=1076708571)\n",
       "Processing file FileInfo(path=&apos;dbfs:/mnt/taxi/csv/fhv/2017-09.csv&apos;, name=&apos;2017-09.csv&apos;, size=1125198924)\n",
       "Processing file FileInfo(path=&apos;dbfs:/mnt/taxi/csv/fhv/2017-10.csv&apos;, name=&apos;2017-10.csv&apos;, size=1211831382)\n",
       "Processing file FileInfo(path=&apos;dbfs:/mnt/taxi/csv/fhv/2017-11.csv&apos;, name=&apos;2017-11.csv&apos;, size=1223139182)\n",
       "Processing file FileInfo(path=&apos;dbfs:/mnt/taxi/csv/fhv/2017-12.csv&apos;, name=&apos;2017-12.csv&apos;, size=1353700482)\n",
       "Processing file FileInfo(path=&apos;dbfs:/mnt/taxi/csv/fhv/2018-01.csv&apos;, name=&apos;2018-01.csv&apos;, size=1342303302)\n",
       "Processing file FileInfo(path=&apos;dbfs:/mnt/taxi/csv/fhv/2018-02.csv&apos;, name=&apos;2018-02.csv&apos;, size=1310711500)\n",
       "Processing file FileInfo(path=&apos;dbfs:/mnt/taxi/csv/fhv/2018-03.csv&apos;, name=&apos;2018-03.csv&apos;, size=1491196059)\n",
       "Processing file FileInfo(path=&apos;dbfs:/mnt/taxi/csv/fhv/2018-04.csv&apos;, name=&apos;2018-04.csv&apos;, size=1432585092)\n",
       "Processing file FileInfo(path=&apos;dbfs:/mnt/taxi/csv/fhv/2018-05.csv&apos;, name=&apos;2018-05.csv&apos;, size=1467748324)\n",
       "Processing file FileInfo(path=&apos;dbfs:/mnt/taxi/csv/fhv/2018-06.csv&apos;, name=&apos;2018-06.csv&apos;, size=1432923365)\n",
       "Processing file FileInfo(path=&apos;dbfs:/mnt/taxi/csv/green/2013-08.csv&apos;, name=&apos;2013-08.csv&apos;, size=1147696)\n",
       "Processing file FileInfo(path=&apos;dbfs:/mnt/taxi/csv/green/2013-09.csv&apos;, name=&apos;2013-09.csv&apos;, size=7685009)\n",
       "Processing file FileInfo(path=&apos;dbfs:/mnt/taxi/csv/green/2013-10.csv&apos;, name=&apos;2013-10.csv&apos;, size=26375774)\n",
       "Processing file FileInfo(path=&apos;dbfs:/mnt/taxi/csv/green/2013-11.csv&apos;, name=&apos;2013-11.csv&apos;, size=59160743)\n",
       "Processing file FileInfo(path=&apos;dbfs:/mnt/taxi/csv/green/2013-12.csv&apos;, name=&apos;2013-12.csv&apos;, size=93586486)\n",
       "Processing file FileInfo(path=&apos;dbfs:/mnt/taxi/csv/green/2014-01.csv&apos;, name=&apos;2014-01.csv&apos;, size=124843531)\n",
       "Processing file FileInfo(path=&apos;dbfs:/mnt/taxi/csv/green/2014-02.csv&apos;, name=&apos;2014-02.csv&apos;, size=156606941)\n",
       "Processing file FileInfo(path=&apos;dbfs:/mnt/taxi/csv/green/2014-03.csv&apos;, name=&apos;2014-03.csv&apos;, size=202092093)\n",
       "Processing file FileInfo(path=&apos;dbfs:/mnt/taxi/csv/green/2014-04.csv&apos;, name=&apos;2014-04.csv&apos;, size=204863497)\n",
       "Processing file FileInfo(path=&apos;dbfs:/mnt/taxi/csv/green/2014-05.csv&apos;, name=&apos;2014-05.csv&apos;, size=222722613)\n",
       "Processing file FileInfo(path=&apos;dbfs:/mnt/taxi/csv/green/2014-06.csv&apos;, name=&apos;2014-06.csv&apos;, size=209637247)\n",
       "Processing file FileInfo(path=&apos;dbfs:/mnt/taxi/csv/green/2014-07.csv&apos;, name=&apos;2014-07.csv&apos;, size=199578900)\n",
       "Processing file FileInfo(path=&apos;dbfs:/mnt/taxi/csv/green/2014-08.csv&apos;, name=&apos;2014-08.csv&apos;, size=210824549)\n",
       "Processing file FileInfo(path=&apos;dbfs:/mnt/taxi/csv/green/2014-09.csv&apos;, name=&apos;2014-09.csv&apos;, size=213461849)\n",
       "Processing file FileInfo(path=&apos;dbfs:/mnt/taxi/csv/green/2014-10.csv&apos;, name=&apos;2014-10.csv&apos;, size=233727643)\n",
       "Processing file FileInfo(path=&apos;dbfs:/mnt/taxi/csv/green/2014-11.csv&apos;, name=&apos;2014-11.csv&apos;, size=242624000)\n",
       "Processing file FileInfo(path=&apos;dbfs:/mnt/taxi/csv/green/2014-12.csv&apos;, name=&apos;2014-12.csv&apos;, size=257796237)\n",
       "Processing file FileInfo(path=&apos;dbfs:/mnt/taxi/csv/green/2015-01.csv&apos;, name=&apos;2015-01.csv&apos;, size=243307680)\n",
       "Processing file FileInfo(path=&apos;dbfs:/mnt/taxi/csv/green/2015-02.csv&apos;, name=&apos;2015-02.csv&apos;, size=254498963)\n",
       "Processing file FileInfo(path=&apos;dbfs:/mnt/taxi/csv/green/2015-03.csv&apos;, name=&apos;2015-03.csv&apos;, size=278503144)\n",
       "Processing file FileInfo(path=&apos;dbfs:/mnt/taxi/csv/green/2015-04.csv&apos;, name=&apos;2015-04.csv&apos;, size=269283302)\n",
       "Processing file FileInfo(path=&apos;dbfs:/mnt/taxi/csv/green/2015-05.csv&apos;, name=&apos;2015-05.csv&apos;, size=289318204)\n",
       "Processing file FileInfo(path=&apos;dbfs:/mnt/taxi/csv/green/2015-06.csv&apos;, name=&apos;2015-06.csv&apos;, size=265179055)\n",
       "Processing file FileInfo(path=&apos;dbfs:/mnt/taxi/csv/green/2015-07.csv&apos;, name=&apos;2015-07.csv&apos;, size=246400857)\n",
       "Processing file FileInfo(path=&apos;dbfs:/mnt/taxi/csv/green/2015-08.csv&apos;, name=&apos;2015-08.csv&apos;, size=245027110)\n",
       "Processing file FileInfo(path=&apos;dbfs:/mnt/taxi/csv/green/2015-09.csv&apos;, name=&apos;2015-09.csv&apos;, size=239035648)\n",
       "Processing file FileInfo(path=&apos;dbfs:/mnt/taxi/csv/green/2015-10.csv&apos;, name=&apos;2015-10.csv&apos;, size=260729773)\n",
       "Processing file FileInfo(path=&apos;dbfs:/mnt/taxi/csv/green/2015-11.csv&apos;, name=&apos;2015-11.csv&apos;, size=244623294)\n",
       "Processing file FileInfo(path=&apos;dbfs:/mnt/taxi/csv/green/2015-12.csv&apos;, name=&apos;2015-12.csv&apos;, size=257080956)\n",
       "Processing file FileInfo(path=&apos;dbfs:/mnt/taxi/csv/green/2016-01.csv&apos;, name=&apos;2016-01.csv&apos;, size=230986242)\n",
       "Processing file FileInfo(path=&apos;dbfs:/mnt/taxi/csv/green/2016-02.csv&apos;, name=&apos;2016-02.csv&apos;, size=241410651)\n",
       "Processing file FileInfo(path=&apos;dbfs:/mnt/taxi/csv/green/2016-03.csv&apos;, name=&apos;2016-03.csv&apos;, size=251960424)\n",
       "Processing file FileInfo(path=&apos;dbfs:/mnt/taxi/csv/green/2016-04.csv&apos;, name=&apos;2016-04.csv&apos;, size=246944499)\n",
       "Processing file FileInfo(path=&apos;dbfs:/mnt/taxi/csv/green/2016-05.csv&apos;, name=&apos;2016-05.csv&apos;, size=245883437)\n",
       "Processing file FileInfo(path=&apos;dbfs:/mnt/taxi/csv/green/2016-06.csv&apos;, name=&apos;2016-06.csv&apos;, size=224653682)\n",
       "Processing file FileInfo(path=&apos;dbfs:/mnt/taxi/csv/green/2016-07.csv&apos;, name=&apos;2016-07.csv&apos;, size=122214201)\n",
       "Processing file FileInfo(path=&apos;dbfs:/mnt/taxi/csv/green/2016-08.csv&apos;, name=&apos;2016-08.csv&apos;, size=114369674)\n",
       "Processing file FileInfo(path=&apos;dbfs:/mnt/taxi/csv/green/2016-09.csv&apos;, name=&apos;2016-09.csv&apos;, size=106541769)\n",
       "Processing file FileInfo(path=&apos;dbfs:/mnt/taxi/csv/green/2016-10.csv&apos;, name=&apos;2016-10.csv&apos;, size=114836762)\n",
       "Processing file FileInfo(path=&apos;dbfs:/mnt/taxi/csv/green/2016-11.csv&apos;, name=&apos;2016-11.csv&apos;, size=105129904)\n",
       "Processing file FileInfo(path=&apos;dbfs:/mnt/taxi/csv/green/2016-12.csv&apos;, name=&apos;2016-12.csv&apos;, size=112001700)\n",
       "Processing file FileInfo(path=&apos;dbfs:/mnt/taxi/csv/green/2017-01.csv&apos;, name=&apos;2017-01.csv&apos;, size=95772578)\n",
       "Processing file FileInfo(path=&apos;dbfs:/mnt/taxi/csv/green/2017-02.csv&apos;, name=&apos;2017-02.csv&apos;, size=91613046)\n",
       "Processing file FileInfo(path=&apos;dbfs:/mnt/taxi/csv/green/2017-03.csv&apos;, name=&apos;2017-03.csv&apos;, size=103669873)\n",
       "Processing file FileInfo(path=&apos;dbfs:/mnt/taxi/csv/green/2017-04.csv&apos;, name=&apos;2017-04.csv&apos;, size=96939515)\n",
       "Processing file FileInfo(path=&apos;dbfs:/mnt/taxi/csv/green/2017-05.csv&apos;, name=&apos;2017-05.csv&apos;, size=94923245)\n",
       "Processing file FileInfo(path=&apos;dbfs:/mnt/taxi/csv/green/2017-06.csv&apos;, name=&apos;2017-06.csv&apos;, size=87477546)\n",
       "Processing file FileInfo(path=&apos;dbfs:/mnt/taxi/csv/green/2017-07.csv&apos;, name=&apos;2017-07.csv&apos;, size=82019862)\n",
       "Processing file FileInfo(path=&apos;dbfs:/mnt/taxi/csv/green/2017-08.csv&apos;, name=&apos;2017-08.csv&apos;, size=77700419)\n",
       "Processing file FileInfo(path=&apos;dbfs:/mnt/taxi/csv/green/2017-09.csv&apos;, name=&apos;2017-09.csv&apos;, size=79092931)\n",
       "Processing file FileInfo(path=&apos;dbfs:/mnt/taxi/csv/green/2017-10.csv&apos;, name=&apos;2017-10.csv&apos;, size=82940621)\n",
       "Processing file FileInfo(path=&apos;dbfs:/mnt/taxi/csv/green/2017-11.csv&apos;, name=&apos;2017-11.csv&apos;, size=78238747)\n",
       "Processing file FileInfo(path=&apos;dbfs:/mnt/taxi/csv/green/2017-12.csv&apos;, name=&apos;2017-12.csv&apos;, size=81048953)\n",
       "Processing file FileInfo(path=&apos;dbfs:/mnt/taxi/csv/green/2018-01.csv&apos;, name=&apos;2018-01.csv&apos;, size=70930317)\n",
       "Processing file FileInfo(path=&apos;dbfs:/mnt/taxi/csv/green/2018-02.csv&apos;, name=&apos;2018-02.csv&apos;, size=68854765)\n",
       "Processing file FileInfo(path=&apos;dbfs:/mnt/taxi/csv/green/2018-03.csv&apos;, name=&apos;2018-03.csv&apos;, size=74889856)\n",
       "Processing file FileInfo(path=&apos;dbfs:/mnt/taxi/csv/green/2018-04.csv&apos;, name=&apos;2018-04.csv&apos;, size=71636786)\n",
       "Processing file FileInfo(path=&apos;dbfs:/mnt/taxi/csv/green/2018-05.csv&apos;, name=&apos;2018-05.csv&apos;, size=71376136)\n",
       "Processing file FileInfo(path=&apos;dbfs:/mnt/taxi/csv/green/2018-06.csv&apos;, name=&apos;2018-06.csv&apos;, size=66213995)\n",
       "Processing file FileInfo(path=&apos;dbfs:/mnt/taxi/csv/yellow/2009-01.csv&apos;, name=&apos;2009-01.csv&apos;, size=2538104764)\n",
       "Processing file FileInfo(path=&apos;dbfs:/mnt/taxi/csv/yellow/2009-02.csv&apos;, name=&apos;2009-02.csv&apos;, size=2415447672)\n",
       "Processing file FileInfo(path=&apos;dbfs:/mnt/taxi/csv/yellow/2009-03.csv&apos;, name=&apos;2009-03.csv&apos;, size=2599574051)\n",
       "Processing file FileInfo(path=&apos;dbfs:/mnt/taxi/csv/yellow/2009-04.csv&apos;, name=&apos;2009-04.csv&apos;, size=2583712231)\n",
       "Processing file FileInfo(path=&apos;dbfs:/mnt/taxi/csv/yellow/2009-05.csv&apos;, name=&apos;2009-05.csv&apos;, size=2675188897)\n",
       "Processing file FileInfo(path=&apos;dbfs:/mnt/taxi/csv/yellow/2009-06.csv&apos;, name=&apos;2009-06.csv&apos;, size=2571138287)\n",
       "Processing file FileInfo(path=&apos;dbfs:/mnt/taxi/csv/yellow/2009-07.csv&apos;, name=&apos;2009-07.csv&apos;, size=2470272430)\n",
       "Processing file FileInfo(path=&apos;dbfs:/mnt/taxi/csv/yellow/2009-08.csv&apos;, name=&apos;2009-08.csv&apos;, size=2480817920)\n",
       "Processing file FileInfo(path=&apos;dbfs:/mnt/taxi/csv/yellow/2009-09.csv&apos;, name=&apos;2009-09.csv&apos;, size=2534793683)\n",
       "Processing file FileInfo(path=&apos;dbfs:/mnt/taxi/csv/yellow/2009-10.csv&apos;, name=&apos;2009-10.csv&apos;, size=2831973622)\n",
       "Processing file FileInfo(path=&apos;dbfs:/mnt/taxi/csv/yellow/2009-11.csv&apos;, name=&apos;2009-11.csv&apos;, size=2625071434)\n",
       "Processing file FileInfo(path=&apos;dbfs:/mnt/taxi/csv/yellow/2009-12.csv&apos;, name=&apos;2009-12.csv&apos;, size=2682015370)\n",
       "Processing file FileInfo(path=&apos;dbfs:/mnt/taxi/csv/yellow/2010-01.csv&apos;, name=&apos;2010-01.csv&apos;, size=2728058790)\n",
       "Processing file FileInfo(path=&apos;dbfs:/mnt/taxi/csv/yellow/2010-02.csv&apos;, name=&apos;2010-02.csv&apos;, size=2047905308)\n",
       "Processing file FileInfo(path=&apos;dbfs:/mnt/taxi/csv/yellow/2010-03.csv&apos;, name=&apos;2010-03.csv&apos;, size=2366707460)\n",
       "Processing file FileInfo(path=&apos;dbfs:/mnt/taxi/csv/yellow/2010-04.csv&apos;, name=&apos;2010-04.csv&apos;, size=2777484798)\n",
       "Processing file FileInfo(path=&apos;dbfs:/mnt/taxi/csv/yellow/2010-05.csv&apos;, name=&apos;2010-05.csv&apos;, size=2839839141)\n",
       "Processing file FileInfo(path=&apos;dbfs:/mnt/taxi/csv/yellow/2010-06.csv&apos;, name=&apos;2010-06.csv&apos;, size=2720122667)\n",
       "Processing file FileInfo(path=&apos;dbfs:/mnt/taxi/csv/yellow/2010-07.csv&apos;, name=&apos;2010-07.csv&apos;, size=2688620278)\n",
       "Processing file FileInfo(path=&apos;dbfs:/mnt/taxi/csv/yellow/2010-08.csv&apos;, name=&apos;2010-08.csv&apos;, size=2295956258)\n",
       "Processing file FileInfo(path=&apos;dbfs:/mnt/taxi/csv/yellow/2010-09.csv&apos;, name=&apos;2010-09.csv&apos;, size=2854569014)\n",
       "Processing file FileInfo(path=&apos;dbfs:/mnt/taxi/csv/yellow/2010-10.csv&apos;, name=&apos;2010-10.csv&apos;, size=2608374430)\n",
       "Processing file FileInfo(path=&apos;dbfs:/mnt/taxi/csv/yellow/2010-11.csv&apos;, name=&apos;2010-11.csv&apos;, size=2553334274)\n",
       "Processing file FileInfo(path=&apos;dbfs:/mnt/taxi/csv/yellow/2010-12.csv&apos;, name=&apos;2010-12.csv&apos;, size=2536431376)\n",
       "Processing file FileInfo(path=&apos;dbfs:/mnt/taxi/csv/yellow/2011-01.csv&apos;, name=&apos;2011-01.csv&apos;, size=2474554026)\n",
       "Processing file FileInfo(path=&apos;dbfs:/mnt/taxi/csv/yellow/2011-02.csv&apos;, name=&apos;2011-02.csv&apos;, size=2604373779)\n",
       "Processing file FileInfo(path=&apos;dbfs:/mnt/taxi/csv/yellow/2011-03.csv&apos;, name=&apos;2011-03.csv&apos;, size=2948633344)\n",
       "Processing file FileInfo(path=&apos;dbfs:/mnt/taxi/csv/yellow/2011-04.csv&apos;, name=&apos;2011-04.csv&apos;, size=2703310900)\n",
       "Processing file FileInfo(path=&apos;dbfs:/mnt/taxi/csv/yellow/2011-05.csv&apos;, name=&apos;2011-05.csv&apos;, size=2860029176)\n",
       "Processing file FileInfo(path=&apos;dbfs:/mnt/taxi/csv/yellow/2011-06.csv&apos;, name=&apos;2011-06.csv&apos;, size=2776252237)\n",
       "Processing file FileInfo(path=&apos;dbfs:/mnt/taxi/csv/yellow/2011-07.csv&apos;, name=&apos;2011-07.csv&apos;, size=2708392003)\n",
       "Processing file FileInfo(path=&apos;dbfs:/mnt/taxi/csv/yellow/2011-08.csv&apos;, name=&apos;2011-08.csv&apos;, size=2432989761)\n",
       "Processing file FileInfo(path=&apos;dbfs:/mnt/taxi/csv/yellow/2011-09.csv&apos;, name=&apos;2011-09.csv&apos;, size=2682104748)\n",
       "Processing file FileInfo(path=&apos;dbfs:/mnt/taxi/csv/yellow/2011-10.csv&apos;, name=&apos;2011-10.csv&apos;, size=2884780798)\n",
       "Processing file FileInfo(path=&apos;dbfs:/mnt/taxi/csv/yellow/2011-11.csv&apos;, name=&apos;2011-11.csv&apos;, size=2668405528)\n",
       "Processing file FileInfo(path=&apos;dbfs:/mnt/taxi/csv/yellow/2011-12.csv&apos;, name=&apos;2011-12.csv&apos;, size=2740546498)\n",
       "Processing file FileInfo(path=&apos;dbfs:/mnt/taxi/csv/yellow/2012-01.csv&apos;, name=&apos;2012-01.csv&apos;, size=2759167113)\n",
       "Processing file FileInfo(path=&apos;dbfs:/mnt/taxi/csv/yellow/2012-02.csv&apos;, name=&apos;2012-02.csv&apos;, size=2778006393)\n",
       "Processing file FileInfo(path=&apos;dbfs:/mnt/taxi/csv/yellow/2012-03.csv&apos;, name=&apos;2012-03.csv&apos;, size=2994922424)\n",
       "Processing file FileInfo(path=&apos;dbfs:/mnt/taxi/csv/yellow/2012-04.csv&apos;, name=&apos;2012-04.csv&apos;, size=2869579142)\n",
       "Processing file FileInfo(path=&apos;dbfs:/mnt/taxi/csv/yellow/2012-05.csv&apos;, name=&apos;2012-05.csv&apos;, size=2885513918)\n",
       "Processing file FileInfo(path=&apos;dbfs:/mnt/taxi/csv/yellow/2012-06.csv&apos;, name=&apos;2012-06.csv&apos;, size=2799672092)\n",
       "Processing file FileInfo(path=&apos;dbfs:/mnt/taxi/csv/yellow/2012-07.csv&apos;, name=&apos;2012-07.csv&apos;, size=2666615247)\n",
       "Processing file FileInfo(path=&apos;dbfs:/mnt/taxi/csv/yellow/2012-08.csv&apos;, name=&apos;2012-08.csv&apos;, size=2665989916)\n",
       "Processing file FileInfo(path=&apos;dbfs:/mnt/taxi/csv/yellow/2012-09.csv&apos;, name=&apos;2012-09.csv&apos;, size=2451418620)\n",
       "Processing file FileInfo(path=&apos;dbfs:/mnt/taxi/csv/yellow/2012-10.csv&apos;, name=&apos;2012-10.csv&apos;, size=2427037091)\n",
       "Processing file FileInfo(path=&apos;dbfs:/mnt/taxi/csv/yellow/2012-11.csv&apos;, name=&apos;2012-11.csv&apos;, size=2299132130)\n",
       "Processing file FileInfo(path=&apos;dbfs:/mnt/taxi/csv/yellow/2012-12.csv&apos;, name=&apos;2012-12.csv&apos;, size=2454427349)\n",
       "Processing file FileInfo(path=&apos;dbfs:/mnt/taxi/csv/yellow/2013-01.csv&apos;, name=&apos;2013-01.csv&apos;, size=2472351469)\n",
       "Processing file FileInfo(path=&apos;dbfs:/mnt/taxi/csv/yellow/2013-02.csv&apos;, name=&apos;2013-02.csv&apos;, size=2344381323)\n",
       "Processing file FileInfo(path=&apos;dbfs:/mnt/taxi/csv/yellow/2013-03.csv&apos;, name=&apos;2013-03.csv&apos;, size=2639810975)\n",
       "Processing file FileInfo(path=&apos;dbfs:/mnt/taxi/csv/yellow/2013-04.csv&apos;, name=&apos;2013-04.csv&apos;, size=2533430839)\n",
       "Processing file FileInfo(path=&apos;dbfs:/mnt/taxi/csv/yellow/2013-05.csv&apos;, name=&apos;2013-05.csv&apos;, size=2565221965)\n",
       "Processing file FileInfo(path=&apos;dbfs:/mnt/taxi/csv/yellow/2013-06.csv&apos;, name=&apos;2013-06.csv&apos;, size=2417268120)\n",
       "Processing file FileInfo(path=&apos;dbfs:/mnt/taxi/csv/yellow/2013-07.csv&apos;, name=&apos;2013-07.csv&apos;, size=2322372042)\n",
       "Processing file FileInfo(path=&apos;dbfs:/mnt/taxi/csv/yellow/2013-08.csv&apos;, name=&apos;2013-08.csv&apos;, size=2103004295)\n",
       "Processing file FileInfo(path=&apos;dbfs:/mnt/taxi/csv/yellow/2013-09.csv&apos;, name=&apos;2013-09.csv&apos;, size=2380395466)\n",
       "Processing file FileInfo(path=&apos;dbfs:/mnt/taxi/csv/yellow/2013-10.csv&apos;, name=&apos;2013-10.csv&apos;, size=2532937359)\n",
       "Processing file FileInfo(path=&apos;dbfs:/mnt/taxi/csv/yellow/2013-11.csv&apos;, name=&apos;2013-11.csv&apos;, size=2420444667)\n",
       "Processing file FileInfo(path=&apos;dbfs:/mnt/taxi/csv/yellow/2013-12.csv&apos;, name=&apos;2013-12.csv&apos;, size=2350229417)\n",
       "Processing file FileInfo(path=&apos;dbfs:/mnt/taxi/csv/yellow/2014-01.csv&apos;, name=&apos;2014-01.csv&apos;, size=2324817062)\n",
       "Processing file FileInfo(path=&apos;dbfs:/mnt/taxi/csv/yellow/2014-02.csv&apos;, name=&apos;2014-02.csv&apos;, size=2205460986)\n",
       "Processing file FileInfo(path=&apos;dbfs:/mnt/taxi/csv/yellow/2014-03.csv&apos;, name=&apos;2014-03.csv&apos;, size=2604044841)\n",
       "Processing file FileInfo(path=&apos;dbfs:/mnt/taxi/csv/yellow/2014-04.csv&apos;, name=&apos;2014-04.csv&apos;, size=2463299452)\n",
       "Processing file FileInfo(path=&apos;dbfs:/mnt/taxi/csv/yellow/2014-05.csv&apos;, name=&apos;2014-05.csv&apos;, size=2488952100)\n",
       "Processing file FileInfo(path=&apos;dbfs:/mnt/taxi/csv/yellow/2014-06.csv&apos;, name=&apos;2014-06.csv&apos;, size=2326220589)\n",
       "Processing file FileInfo(path=&apos;dbfs:/mnt/taxi/csv/yellow/2014-07.csv&apos;, name=&apos;2014-07.csv&apos;, size=2204602640)\n",
       "Processing file FileInfo(path=&apos;dbfs:/mnt/taxi/csv/yellow/2014-08.csv&apos;, name=&apos;2014-08.csv&apos;, size=2133936569)\n",
       "Processing file FileInfo(path=&apos;dbfs:/mnt/taxi/csv/yellow/2014-09.csv&apos;, name=&apos;2014-09.csv&apos;, size=2260069774)\n",
       "Processing file FileInfo(path=&apos;dbfs:/mnt/taxi/csv/yellow/2014-10.csv&apos;, name=&apos;2014-10.csv&apos;, size=2409216587)\n",
       "Processing file FileInfo(path=&apos;dbfs:/mnt/taxi/csv/yellow/2014-11.csv&apos;, name=&apos;2014-11.csv&apos;, size=2235168890)\n",
       "Processing file FileInfo(path=&apos;dbfs:/mnt/taxi/csv/yellow/2014-12.csv&apos;, name=&apos;2014-12.csv&apos;, size=2198671160)\n",
       "Processing file FileInfo(path=&apos;dbfs:/mnt/taxi/csv/yellow/2015-01.csv&apos;, name=&apos;2015-01.csv&apos;, size=1985964692)\n",
       "Processing file FileInfo(path=&apos;dbfs:/mnt/taxi/csv/yellow/2015-02.csv&apos;, name=&apos;2015-02.csv&apos;, size=1945357622)\n",
       "Processing file FileInfo(path=&apos;dbfs:/mnt/taxi/csv/yellow/2015-03.csv&apos;, name=&apos;2015-03.csv&apos;, size=2087971794)\n",
       "Processing file FileInfo(path=&apos;dbfs:/mnt/taxi/csv/yellow/2015-04.csv&apos;, name=&apos;2015-04.csv&apos;, size=2046225765)\n",
       "Processing file FileInfo(path=&apos;dbfs:/mnt/taxi/csv/yellow/2015-05.csv&apos;, name=&apos;2015-05.csv&apos;, size=2061869121)\n",
       "Processing file FileInfo(path=&apos;dbfs:/mnt/taxi/csv/yellow/2015-06.csv&apos;, name=&apos;2015-06.csv&apos;, size=1932049357)\n",
       "Processing file FileInfo(path=&apos;dbfs:/mnt/taxi/csv/yellow/2015-07.csv&apos;, name=&apos;2015-07.csv&apos;, size=1812530041)\n",
       "Processing file FileInfo(path=&apos;dbfs:/mnt/taxi/csv/yellow/2015-08.csv&apos;, name=&apos;2015-08.csv&apos;, size=1744852237)\n",
       "Processing file FileInfo(path=&apos;dbfs:/mnt/taxi/csv/yellow/2015-09.csv&apos;, name=&apos;2015-09.csv&apos;, size=1760412710)\n",
       "Processing file FileInfo(path=&apos;dbfs:/mnt/taxi/csv/yellow/2015-10.csv&apos;, name=&apos;2015-10.csv&apos;, size=1931460927)\n",
       "Processing file FileInfo(path=&apos;dbfs:/mnt/taxi/csv/yellow/2015-11.csv&apos;, name=&apos;2015-11.csv&apos;, size=1773468989)\n",
       "Processing file FileInfo(path=&apos;dbfs:/mnt/taxi/csv/yellow/2015-12.csv&apos;, name=&apos;2015-12.csv&apos;, size=1796283025)\n",
       "Processing file FileInfo(path=&apos;dbfs:/mnt/taxi/csv/yellow/2016-01.csv&apos;, name=&apos;2016-01.csv&apos;, size=1708674492)\n",
       "Processing file FileInfo(path=&apos;dbfs:/mnt/taxi/csv/yellow/2016-02.csv&apos;, name=&apos;2016-02.csv&apos;, size=1783554554)\n",
       "Processing file FileInfo(path=&apos;dbfs:/mnt/taxi/csv/yellow/2016-03.csv&apos;, name=&apos;2016-03.csv&apos;, size=1914669757)\n",
       "Processing file FileInfo(path=&apos;dbfs:/mnt/taxi/csv/yellow/2016-04.csv&apos;, name=&apos;2016-04.csv&apos;, size=1872015980)\n",
       "Processing file FileInfo(path=&apos;dbfs:/mnt/taxi/csv/yellow/2016-05.csv&apos;, name=&apos;2016-05.csv&apos;, size=1858526595)\n",
       "Processing file FileInfo(path=&apos;dbfs:/mnt/taxi/csv/yellow/2016-06.csv&apos;, name=&apos;2016-06.csv&apos;, size=1748784180)\n",
       "Processing file FileInfo(path=&apos;dbfs:/mnt/taxi/csv/yellow/2016-07.csv&apos;, name=&apos;2016-07.csv&apos;, size=927697979)\n",
       "Processing file FileInfo(path=&apos;dbfs:/mnt/taxi/csv/yellow/2016-08.csv&apos;, name=&apos;2016-08.csv&apos;, size=895754268)\n",
       "Processing file FileInfo(path=&apos;dbfs:/mnt/taxi/csv/yellow/2016-09.csv&apos;, name=&apos;2016-09.csv&apos;, size=912283443)\n",
       "Processing file FileInfo(path=&apos;dbfs:/mnt/taxi/csv/yellow/2016-10.csv&apos;, name=&apos;2016-10.csv&apos;, size=978741144)\n",
       "Processing file FileInfo(path=&apos;dbfs:/mnt/taxi/csv/yellow/2016-11.csv&apos;, name=&apos;2016-11.csv&apos;, size=910861791)\n",
       "Processing file FileInfo(path=&apos;dbfs:/mnt/taxi/csv/yellow/2016-12.csv&apos;, name=&apos;2016-12.csv&apos;, size=941369997)\n",
       "Processing file FileInfo(path=&apos;dbfs:/mnt/taxi/csv/yellow/2017-01.csv&apos;, name=&apos;2017-01.csv&apos;, size=854903002)\n",
       "Processing file FileInfo(path=&apos;dbfs:/mnt/taxi/csv/yellow/2017-02.csv&apos;, name=&apos;2017-02.csv&apos;, size=808065449)\n",
       "Processing file FileInfo(path=&apos;dbfs:/mnt/taxi/csv/yellow/2017-03.csv&apos;, name=&apos;2017-03.csv&apos;, size=907607519)\n",
       "Processing file FileInfo(path=&apos;dbfs:/mnt/taxi/csv/yellow/2017-04.csv&apos;, name=&apos;2017-04.csv&apos;, size=885635901)\n",
       "Processing file FileInfo(path=&apos;dbfs:/mnt/taxi/csv/yellow/2017-05.csv&apos;, name=&apos;2017-05.csv&apos;, size=890957221)\n",
       "Processing file FileInfo(path=&apos;dbfs:/mnt/taxi/csv/yellow/2017-06.csv&apos;, name=&apos;2017-06.csv&apos;, size=851905495)\n",
       "Processing file FileInfo(path=&apos;dbfs:/mnt/taxi/csv/yellow/2017-07.csv&apos;, name=&apos;2017-07.csv&apos;, size=757136529)\n",
       "Processing file FileInfo(path=&apos;dbfs:/mnt/taxi/csv/yellow/2017-08.csv&apos;, name=&apos;2017-08.csv&apos;, size=742418400)\n",
       "Processing file FileInfo(path=&apos;dbfs:/mnt/taxi/csv/yellow/2017-09.csv&apos;, name=&apos;2017-09.csv&apos;, size=789072355)\n",
       "Processing file FileInfo(path=&apos;dbfs:/mnt/taxi/csv/yellow/2017-10.csv&apos;, name=&apos;2017-10.csv&apos;, size=861994850)\n",
       "Processing file FileInfo(path=&apos;dbfs:/mnt/taxi/csv/yellow/2017-11.csv&apos;, name=&apos;2017-11.csv&apos;, size=819183872)\n",
       "Processing file FileInfo(path=&apos;dbfs:/mnt/taxi/csv/yellow/2017-12.csv&apos;, name=&apos;2017-12.csv&apos;, size=838089408)\n",
       "Processing file FileInfo(path=&apos;dbfs:/mnt/taxi/csv/yellow/2018-01.csv&apos;, name=&apos;2018-01.csv&apos;, size=772098307)\n",
       "Processing file FileInfo(path=&apos;dbfs:/mnt/taxi/csv/yellow/2018-02.csv&apos;, name=&apos;2018-02.csv&apos;, size=748827487)\n",
       "Processing file FileInfo(path=&apos;dbfs:/mnt/taxi/csv/yellow/2018-03.csv&apos;, name=&apos;2018-03.csv&apos;, size=831623580)\n",
       "Processing file FileInfo(path=&apos;dbfs:/mnt/taxi/csv/yellow/2018-04.csv&apos;, name=&apos;2018-04.csv&apos;, size=821249453)\n",
       "Processing file FileInfo(path=&apos;dbfs:/mnt/taxi/csv/yellow/2018-05.csv&apos;, name=&apos;2018-05.csv&apos;, size=814368922)\n",
       "Processing file FileInfo(path=&apos;dbfs:/mnt/taxi/csv/yellow/2018-06.csv&apos;, name=&apos;2018-06.csv&apos;, size=769389923)\n",
       "</div>"
      ]
     },
     "metadata": {
      "application/vnd.databricks.v1+output": {
       "addedWidgets": {},
       "arguments": {},
       "data": "<div class=\"ansiout\">Processing file FileInfo(path=&apos;dbfs:/mnt/taxi/csv/fhv/2015-01.csv&apos;, name=&apos;2015-01.csv&apos;, size=85733063)\nProcessing file FileInfo(path=&apos;dbfs:/mnt/taxi/csv/fhv/2015-02.csv&apos;, name=&apos;2015-02.csv&apos;, size=97863482)\nProcessing file FileInfo(path=&apos;dbfs:/mnt/taxi/csv/fhv/2015-03.csv&apos;, name=&apos;2015-03.csv&apos;, size=102220197)\nProcessing file FileInfo(path=&apos;dbfs:/mnt/taxi/csv/fhv/2015-04.csv&apos;, name=&apos;2015-04.csv&apos;, size=121250461)\nProcessing file FileInfo(path=&apos;dbfs:/mnt/taxi/csv/fhv/2015-05.csv&apos;, name=&apos;2015-05.csv&apos;, size=133469666)\nProcessing file FileInfo(path=&apos;dbfs:/mnt/taxi/csv/fhv/2015-06.csv&apos;, name=&apos;2015-06.csv&apos;, size=132209226)\nProcessing file FileInfo(path=&apos;dbfs:/mnt/taxi/csv/fhv/2015-07.csv&apos;, name=&apos;2015-07.csv&apos;, size=137153004)\nProcessing file FileInfo(path=&apos;dbfs:/mnt/taxi/csv/fhv/2015-08.csv&apos;, name=&apos;2015-08.csv&apos;, size=164291700)\nProcessing file FileInfo(path=&apos;dbfs:/mnt/taxi/csv/fhv/2015-09.csv&apos;, name=&apos;2015-09.csv&apos;, size=205607912)\nProcessing file FileInfo(path=&apos;dbfs:/mnt/taxi/csv/fhv/2015-10.csv&apos;, name=&apos;2015-10.csv&apos;, size=267154747)\nProcessing file FileInfo(path=&apos;dbfs:/mnt/taxi/csv/fhv/2015-11.csv&apos;, name=&apos;2015-11.csv&apos;, size=259214640)\nProcessing file FileInfo(path=&apos;dbfs:/mnt/taxi/csv/fhv/2015-12.csv&apos;, name=&apos;2015-12.csv&apos;, size=271987599)\nProcessing file FileInfo(path=&apos;dbfs:/mnt/taxi/csv/fhv/2016-01.csv&apos;, name=&apos;2016-01.csv&apos;, size=269366796)\nProcessing file FileInfo(path=&apos;dbfs:/mnt/taxi/csv/fhv/2016-02.csv&apos;, name=&apos;2016-02.csv&apos;, size=292747091)\nProcessing file FileInfo(path=&apos;dbfs:/mnt/taxi/csv/fhv/2016-03.csv&apos;, name=&apos;2016-03.csv&apos;, size=299642308)\nProcessing file FileInfo(path=&apos;dbfs:/mnt/taxi/csv/fhv/2016-04.csv&apos;, name=&apos;2016-04.csv&apos;, size=315566565)\nProcessing file FileInfo(path=&apos;dbfs:/mnt/taxi/csv/fhv/2016-05.csv&apos;, name=&apos;2016-05.csv&apos;, size=334436403)\nProcessing file FileInfo(path=&apos;dbfs:/mnt/taxi/csv/fhv/2016-06.csv&apos;, name=&apos;2016-06.csv&apos;, size=334753407)\nProcessing file FileInfo(path=&apos;dbfs:/mnt/taxi/csv/fhv/2016-07.csv&apos;, name=&apos;2016-07.csv&apos;, size=343027537)\nProcessing file FileInfo(path=&apos;dbfs:/mnt/taxi/csv/fhv/2016-08.csv&apos;, name=&apos;2016-08.csv&apos;, size=348771009)\nProcessing file FileInfo(path=&apos;dbfs:/mnt/taxi/csv/fhv/2016-09.csv&apos;, name=&apos;2016-09.csv&apos;, size=364401686)\nProcessing file FileInfo(path=&apos;dbfs:/mnt/taxi/csv/fhv/2016-10.csv&apos;, name=&apos;2016-10.csv&apos;, size=392966473)\nProcessing file FileInfo(path=&apos;dbfs:/mnt/taxi/csv/fhv/2016-11.csv&apos;, name=&apos;2016-11.csv&apos;, size=386130495)\nProcessing file FileInfo(path=&apos;dbfs:/mnt/taxi/csv/fhv/2016-12.csv&apos;, name=&apos;2016-12.csv&apos;, size=430102704)\nProcessing file FileInfo(path=&apos;dbfs:/mnt/taxi/csv/fhv/2017-01.csv&apos;, name=&apos;2017-01.csv&apos;, size=449961921)\nProcessing file FileInfo(path=&apos;dbfs:/mnt/taxi/csv/fhv/2017-02.csv&apos;, name=&apos;2017-02.csv&apos;, size=437760457)\nProcessing file FileInfo(path=&apos;dbfs:/mnt/taxi/csv/fhv/2017-03.csv&apos;, name=&apos;2017-03.csv&apos;, size=517512752)\nProcessing file FileInfo(path=&apos;dbfs:/mnt/taxi/csv/fhv/2017-04.csv&apos;, name=&apos;2017-04.csv&apos;, size=486596109)\nProcessing file FileInfo(path=&apos;dbfs:/mnt/taxi/csv/fhv/2017-05.csv&apos;, name=&apos;2017-05.csv&apos;, size=509232843)\nProcessing file FileInfo(path=&apos;dbfs:/mnt/taxi/csv/fhv/2017-06.csv&apos;, name=&apos;2017-06.csv&apos;, size=836353639)\nProcessing file FileInfo(path=&apos;dbfs:/mnt/taxi/csv/fhv/2017-07.csv&apos;, name=&apos;2017-07.csv&apos;, size=1060291820)\nProcessing file FileInfo(path=&apos;dbfs:/mnt/taxi/csv/fhv/2017-08.csv&apos;, name=&apos;2017-08.csv&apos;, size=1076708571)\nProcessing file FileInfo(path=&apos;dbfs:/mnt/taxi/csv/fhv/2017-09.csv&apos;, name=&apos;2017-09.csv&apos;, size=1125198924)\nProcessing file FileInfo(path=&apos;dbfs:/mnt/taxi/csv/fhv/2017-10.csv&apos;, name=&apos;2017-10.csv&apos;, size=1211831382)\nProcessing file FileInfo(path=&apos;dbfs:/mnt/taxi/csv/fhv/2017-11.csv&apos;, name=&apos;2017-11.csv&apos;, size=1223139182)\nProcessing file FileInfo(path=&apos;dbfs:/mnt/taxi/csv/fhv/2017-12.csv&apos;, name=&apos;2017-12.csv&apos;, size=1353700482)\nProcessing file FileInfo(path=&apos;dbfs:/mnt/taxi/csv/fhv/2018-01.csv&apos;, name=&apos;2018-01.csv&apos;, size=1342303302)\nProcessing file FileInfo(path=&apos;dbfs:/mnt/taxi/csv/fhv/2018-02.csv&apos;, name=&apos;2018-02.csv&apos;, size=1310711500)\nProcessing file FileInfo(path=&apos;dbfs:/mnt/taxi/csv/fhv/2018-03.csv&apos;, name=&apos;2018-03.csv&apos;, size=1491196059)\nProcessing file FileInfo(path=&apos;dbfs:/mnt/taxi/csv/fhv/2018-04.csv&apos;, name=&apos;2018-04.csv&apos;, size=1432585092)\nProcessing file FileInfo(path=&apos;dbfs:/mnt/taxi/csv/fhv/2018-05.csv&apos;, name=&apos;2018-05.csv&apos;, size=1467748324)\nProcessing file FileInfo(path=&apos;dbfs:/mnt/taxi/csv/fhv/2018-06.csv&apos;, name=&apos;2018-06.csv&apos;, size=1432923365)\nProcessing file FileInfo(path=&apos;dbfs:/mnt/taxi/csv/green/2013-08.csv&apos;, name=&apos;2013-08.csv&apos;, size=1147696)\nProcessing file FileInfo(path=&apos;dbfs:/mnt/taxi/csv/green/2013-09.csv&apos;, name=&apos;2013-09.csv&apos;, size=7685009)\nProcessing file FileInfo(path=&apos;dbfs:/mnt/taxi/csv/green/2013-10.csv&apos;, name=&apos;2013-10.csv&apos;, size=26375774)\nProcessing file FileInfo(path=&apos;dbfs:/mnt/taxi/csv/green/2013-11.csv&apos;, name=&apos;2013-11.csv&apos;, size=59160743)\nProcessing file FileInfo(path=&apos;dbfs:/mnt/taxi/csv/green/2013-12.csv&apos;, name=&apos;2013-12.csv&apos;, size=93586486)\nProcessing file FileInfo(path=&apos;dbfs:/mnt/taxi/csv/green/2014-01.csv&apos;, name=&apos;2014-01.csv&apos;, size=124843531)\nProcessing file FileInfo(path=&apos;dbfs:/mnt/taxi/csv/green/2014-02.csv&apos;, name=&apos;2014-02.csv&apos;, size=156606941)\nProcessing file FileInfo(path=&apos;dbfs:/mnt/taxi/csv/green/2014-03.csv&apos;, name=&apos;2014-03.csv&apos;, size=202092093)\nProcessing file FileInfo(path=&apos;dbfs:/mnt/taxi/csv/green/2014-04.csv&apos;, name=&apos;2014-04.csv&apos;, size=204863497)\nProcessing file FileInfo(path=&apos;dbfs:/mnt/taxi/csv/green/2014-05.csv&apos;, name=&apos;2014-05.csv&apos;, size=222722613)\nProcessing file FileInfo(path=&apos;dbfs:/mnt/taxi/csv/green/2014-06.csv&apos;, name=&apos;2014-06.csv&apos;, size=209637247)\nProcessing file FileInfo(path=&apos;dbfs:/mnt/taxi/csv/green/2014-07.csv&apos;, name=&apos;2014-07.csv&apos;, size=199578900)\nProcessing file FileInfo(path=&apos;dbfs:/mnt/taxi/csv/green/2014-08.csv&apos;, name=&apos;2014-08.csv&apos;, size=210824549)\nProcessing file FileInfo(path=&apos;dbfs:/mnt/taxi/csv/green/2014-09.csv&apos;, name=&apos;2014-09.csv&apos;, size=213461849)\nProcessing file FileInfo(path=&apos;dbfs:/mnt/taxi/csv/green/2014-10.csv&apos;, name=&apos;2014-10.csv&apos;, size=233727643)\nProcessing file FileInfo(path=&apos;dbfs:/mnt/taxi/csv/green/2014-11.csv&apos;, name=&apos;2014-11.csv&apos;, size=242624000)\nProcessing file FileInfo(path=&apos;dbfs:/mnt/taxi/csv/green/2014-12.csv&apos;, name=&apos;2014-12.csv&apos;, size=257796237)\nProcessing file FileInfo(path=&apos;dbfs:/mnt/taxi/csv/green/2015-01.csv&apos;, name=&apos;2015-01.csv&apos;, size=243307680)\nProcessing file FileInfo(path=&apos;dbfs:/mnt/taxi/csv/green/2015-02.csv&apos;, name=&apos;2015-02.csv&apos;, size=254498963)\nProcessing file FileInfo(path=&apos;dbfs:/mnt/taxi/csv/green/2015-03.csv&apos;, name=&apos;2015-03.csv&apos;, size=278503144)\nProcessing file FileInfo(path=&apos;dbfs:/mnt/taxi/csv/green/2015-04.csv&apos;, name=&apos;2015-04.csv&apos;, size=269283302)\nProcessing file FileInfo(path=&apos;dbfs:/mnt/taxi/csv/green/2015-05.csv&apos;, name=&apos;2015-05.csv&apos;, size=289318204)\nProcessing file FileInfo(path=&apos;dbfs:/mnt/taxi/csv/green/2015-06.csv&apos;, name=&apos;2015-06.csv&apos;, size=265179055)\nProcessing file FileInfo(path=&apos;dbfs:/mnt/taxi/csv/green/2015-07.csv&apos;, name=&apos;2015-07.csv&apos;, size=246400857)\nProcessing file FileInfo(path=&apos;dbfs:/mnt/taxi/csv/green/2015-08.csv&apos;, name=&apos;2015-08.csv&apos;, size=245027110)\nProcessing file FileInfo(path=&apos;dbfs:/mnt/taxi/csv/green/2015-09.csv&apos;, name=&apos;2015-09.csv&apos;, size=239035648)\nProcessing file FileInfo(path=&apos;dbfs:/mnt/taxi/csv/green/2015-10.csv&apos;, name=&apos;2015-10.csv&apos;, size=260729773)\nProcessing file FileInfo(path=&apos;dbfs:/mnt/taxi/csv/green/2015-11.csv&apos;, name=&apos;2015-11.csv&apos;, size=244623294)\nProcessing file FileInfo(path=&apos;dbfs:/mnt/taxi/csv/green/2015-12.csv&apos;, name=&apos;2015-12.csv&apos;, size=257080956)\nProcessing file FileInfo(path=&apos;dbfs:/mnt/taxi/csv/green/2016-01.csv&apos;, name=&apos;2016-01.csv&apos;, size=230986242)\nProcessing file FileInfo(path=&apos;dbfs:/mnt/taxi/csv/green/2016-02.csv&apos;, name=&apos;2016-02.csv&apos;, size=241410651)\nProcessing file FileInfo(path=&apos;dbfs:/mnt/taxi/csv/green/2016-03.csv&apos;, name=&apos;2016-03.csv&apos;, size=251960424)\nProcessing file FileInfo(path=&apos;dbfs:/mnt/taxi/csv/green/2016-04.csv&apos;, name=&apos;2016-04.csv&apos;, size=246944499)\nProcessing file FileInfo(path=&apos;dbfs:/mnt/taxi/csv/green/2016-05.csv&apos;, name=&apos;2016-05.csv&apos;, size=245883437)\nProcessing file FileInfo(path=&apos;dbfs:/mnt/taxi/csv/green/2016-06.csv&apos;, name=&apos;2016-06.csv&apos;, size=224653682)\nProcessing file FileInfo(path=&apos;dbfs:/mnt/taxi/csv/green/2016-07.csv&apos;, name=&apos;2016-07.csv&apos;, size=122214201)\nProcessing file FileInfo(path=&apos;dbfs:/mnt/taxi/csv/green/2016-08.csv&apos;, name=&apos;2016-08.csv&apos;, size=114369674)\nProcessing file FileInfo(path=&apos;dbfs:/mnt/taxi/csv/green/2016-09.csv&apos;, name=&apos;2016-09.csv&apos;, size=106541769)\nProcessing file FileInfo(path=&apos;dbfs:/mnt/taxi/csv/green/2016-10.csv&apos;, name=&apos;2016-10.csv&apos;, size=114836762)\nProcessing file FileInfo(path=&apos;dbfs:/mnt/taxi/csv/green/2016-11.csv&apos;, name=&apos;2016-11.csv&apos;, size=105129904)\nProcessing file FileInfo(path=&apos;dbfs:/mnt/taxi/csv/green/2016-12.csv&apos;, name=&apos;2016-12.csv&apos;, size=112001700)\nProcessing file FileInfo(path=&apos;dbfs:/mnt/taxi/csv/green/2017-01.csv&apos;, name=&apos;2017-01.csv&apos;, size=95772578)\nProcessing file FileInfo(path=&apos;dbfs:/mnt/taxi/csv/green/2017-02.csv&apos;, name=&apos;2017-02.csv&apos;, size=91613046)\nProcessing file FileInfo(path=&apos;dbfs:/mnt/taxi/csv/green/2017-03.csv&apos;, name=&apos;2017-03.csv&apos;, size=103669873)\nProcessing file FileInfo(path=&apos;dbfs:/mnt/taxi/csv/green/2017-04.csv&apos;, name=&apos;2017-04.csv&apos;, size=96939515)\nProcessing file FileInfo(path=&apos;dbfs:/mnt/taxi/csv/green/2017-05.csv&apos;, name=&apos;2017-05.csv&apos;, size=94923245)\nProcessing file FileInfo(path=&apos;dbfs:/mnt/taxi/csv/green/2017-06.csv&apos;, name=&apos;2017-06.csv&apos;, size=87477546)\nProcessing file FileInfo(path=&apos;dbfs:/mnt/taxi/csv/green/2017-07.csv&apos;, name=&apos;2017-07.csv&apos;, size=82019862)\nProcessing file FileInfo(path=&apos;dbfs:/mnt/taxi/csv/green/2017-08.csv&apos;, name=&apos;2017-08.csv&apos;, size=77700419)\nProcessing file FileInfo(path=&apos;dbfs:/mnt/taxi/csv/green/2017-09.csv&apos;, name=&apos;2017-09.csv&apos;, size=79092931)\nProcessing file FileInfo(path=&apos;dbfs:/mnt/taxi/csv/green/2017-10.csv&apos;, name=&apos;2017-10.csv&apos;, size=82940621)\nProcessing file FileInfo(path=&apos;dbfs:/mnt/taxi/csv/green/2017-11.csv&apos;, name=&apos;2017-11.csv&apos;, size=78238747)\nProcessing file FileInfo(path=&apos;dbfs:/mnt/taxi/csv/green/2017-12.csv&apos;, name=&apos;2017-12.csv&apos;, size=81048953)\nProcessing file FileInfo(path=&apos;dbfs:/mnt/taxi/csv/green/2018-01.csv&apos;, name=&apos;2018-01.csv&apos;, size=70930317)\nProcessing file FileInfo(path=&apos;dbfs:/mnt/taxi/csv/green/2018-02.csv&apos;, name=&apos;2018-02.csv&apos;, size=68854765)\nProcessing file FileInfo(path=&apos;dbfs:/mnt/taxi/csv/green/2018-03.csv&apos;, name=&apos;2018-03.csv&apos;, size=74889856)\nProcessing file FileInfo(path=&apos;dbfs:/mnt/taxi/csv/green/2018-04.csv&apos;, name=&apos;2018-04.csv&apos;, size=71636786)\nProcessing file FileInfo(path=&apos;dbfs:/mnt/taxi/csv/green/2018-05.csv&apos;, name=&apos;2018-05.csv&apos;, size=71376136)\nProcessing file FileInfo(path=&apos;dbfs:/mnt/taxi/csv/green/2018-06.csv&apos;, name=&apos;2018-06.csv&apos;, size=66213995)\nProcessing file FileInfo(path=&apos;dbfs:/mnt/taxi/csv/yellow/2009-01.csv&apos;, name=&apos;2009-01.csv&apos;, size=2538104764)\nProcessing file FileInfo(path=&apos;dbfs:/mnt/taxi/csv/yellow/2009-02.csv&apos;, name=&apos;2009-02.csv&apos;, size=2415447672)\nProcessing file FileInfo(path=&apos;dbfs:/mnt/taxi/csv/yellow/2009-03.csv&apos;, name=&apos;2009-03.csv&apos;, size=2599574051)\nProcessing file FileInfo(path=&apos;dbfs:/mnt/taxi/csv/yellow/2009-04.csv&apos;, name=&apos;2009-04.csv&apos;, size=2583712231)\nProcessing file FileInfo(path=&apos;dbfs:/mnt/taxi/csv/yellow/2009-05.csv&apos;, name=&apos;2009-05.csv&apos;, size=2675188897)\nProcessing file FileInfo(path=&apos;dbfs:/mnt/taxi/csv/yellow/2009-06.csv&apos;, name=&apos;2009-06.csv&apos;, size=2571138287)\nProcessing file FileInfo(path=&apos;dbfs:/mnt/taxi/csv/yellow/2009-07.csv&apos;, name=&apos;2009-07.csv&apos;, size=2470272430)\nProcessing file FileInfo(path=&apos;dbfs:/mnt/taxi/csv/yellow/2009-08.csv&apos;, name=&apos;2009-08.csv&apos;, size=2480817920)\nProcessing file FileInfo(path=&apos;dbfs:/mnt/taxi/csv/yellow/2009-09.csv&apos;, name=&apos;2009-09.csv&apos;, size=2534793683)\nProcessing file FileInfo(path=&apos;dbfs:/mnt/taxi/csv/yellow/2009-10.csv&apos;, name=&apos;2009-10.csv&apos;, size=2831973622)\nProcessing file FileInfo(path=&apos;dbfs:/mnt/taxi/csv/yellow/2009-11.csv&apos;, name=&apos;2009-11.csv&apos;, size=2625071434)\nProcessing file FileInfo(path=&apos;dbfs:/mnt/taxi/csv/yellow/2009-12.csv&apos;, name=&apos;2009-12.csv&apos;, size=2682015370)\nProcessing file FileInfo(path=&apos;dbfs:/mnt/taxi/csv/yellow/2010-01.csv&apos;, name=&apos;2010-01.csv&apos;, size=2728058790)\nProcessing file FileInfo(path=&apos;dbfs:/mnt/taxi/csv/yellow/2010-02.csv&apos;, name=&apos;2010-02.csv&apos;, size=2047905308)\nProcessing file FileInfo(path=&apos;dbfs:/mnt/taxi/csv/yellow/2010-03.csv&apos;, name=&apos;2010-03.csv&apos;, size=2366707460)\nProcessing file FileInfo(path=&apos;dbfs:/mnt/taxi/csv/yellow/2010-04.csv&apos;, name=&apos;2010-04.csv&apos;, size=2777484798)\nProcessing file FileInfo(path=&apos;dbfs:/mnt/taxi/csv/yellow/2010-05.csv&apos;, name=&apos;2010-05.csv&apos;, size=2839839141)\nProcessing file FileInfo(path=&apos;dbfs:/mnt/taxi/csv/yellow/2010-06.csv&apos;, name=&apos;2010-06.csv&apos;, size=2720122667)\nProcessing file FileInfo(path=&apos;dbfs:/mnt/taxi/csv/yellow/2010-07.csv&apos;, name=&apos;2010-07.csv&apos;, size=2688620278)\nProcessing file FileInfo(path=&apos;dbfs:/mnt/taxi/csv/yellow/2010-08.csv&apos;, name=&apos;2010-08.csv&apos;, size=2295956258)\nProcessing file FileInfo(path=&apos;dbfs:/mnt/taxi/csv/yellow/2010-09.csv&apos;, name=&apos;2010-09.csv&apos;, size=2854569014)\nProcessing file FileInfo(path=&apos;dbfs:/mnt/taxi/csv/yellow/2010-10.csv&apos;, name=&apos;2010-10.csv&apos;, size=2608374430)\nProcessing file FileInfo(path=&apos;dbfs:/mnt/taxi/csv/yellow/2010-11.csv&apos;, name=&apos;2010-11.csv&apos;, size=2553334274)\nProcessing file FileInfo(path=&apos;dbfs:/mnt/taxi/csv/yellow/2010-12.csv&apos;, name=&apos;2010-12.csv&apos;, size=2536431376)\nProcessing file FileInfo(path=&apos;dbfs:/mnt/taxi/csv/yellow/2011-01.csv&apos;, name=&apos;2011-01.csv&apos;, size=2474554026)\nProcessing file FileInfo(path=&apos;dbfs:/mnt/taxi/csv/yellow/2011-02.csv&apos;, name=&apos;2011-02.csv&apos;, size=2604373779)\nProcessing file FileInfo(path=&apos;dbfs:/mnt/taxi/csv/yellow/2011-03.csv&apos;, name=&apos;2011-03.csv&apos;, size=2948633344)\nProcessing file FileInfo(path=&apos;dbfs:/mnt/taxi/csv/yellow/2011-04.csv&apos;, name=&apos;2011-04.csv&apos;, size=2703310900)\nProcessing file FileInfo(path=&apos;dbfs:/mnt/taxi/csv/yellow/2011-05.csv&apos;, name=&apos;2011-05.csv&apos;, size=2860029176)\nProcessing file FileInfo(path=&apos;dbfs:/mnt/taxi/csv/yellow/2011-06.csv&apos;, name=&apos;2011-06.csv&apos;, size=2776252237)\nProcessing file FileInfo(path=&apos;dbfs:/mnt/taxi/csv/yellow/2011-07.csv&apos;, name=&apos;2011-07.csv&apos;, size=2708392003)\nProcessing file FileInfo(path=&apos;dbfs:/mnt/taxi/csv/yellow/2011-08.csv&apos;, name=&apos;2011-08.csv&apos;, size=2432989761)\nProcessing file FileInfo(path=&apos;dbfs:/mnt/taxi/csv/yellow/2011-09.csv&apos;, name=&apos;2011-09.csv&apos;, size=2682104748)\nProcessing file FileInfo(path=&apos;dbfs:/mnt/taxi/csv/yellow/2011-10.csv&apos;, name=&apos;2011-10.csv&apos;, size=2884780798)\nProcessing file FileInfo(path=&apos;dbfs:/mnt/taxi/csv/yellow/2011-11.csv&apos;, name=&apos;2011-11.csv&apos;, size=2668405528)\nProcessing file FileInfo(path=&apos;dbfs:/mnt/taxi/csv/yellow/2011-12.csv&apos;, name=&apos;2011-12.csv&apos;, size=2740546498)\nProcessing file FileInfo(path=&apos;dbfs:/mnt/taxi/csv/yellow/2012-01.csv&apos;, name=&apos;2012-01.csv&apos;, size=2759167113)\nProcessing file FileInfo(path=&apos;dbfs:/mnt/taxi/csv/yellow/2012-02.csv&apos;, name=&apos;2012-02.csv&apos;, size=2778006393)\nProcessing file FileInfo(path=&apos;dbfs:/mnt/taxi/csv/yellow/2012-03.csv&apos;, name=&apos;2012-03.csv&apos;, size=2994922424)\nProcessing file FileInfo(path=&apos;dbfs:/mnt/taxi/csv/yellow/2012-04.csv&apos;, name=&apos;2012-04.csv&apos;, size=2869579142)\nProcessing file FileInfo(path=&apos;dbfs:/mnt/taxi/csv/yellow/2012-05.csv&apos;, name=&apos;2012-05.csv&apos;, size=2885513918)\nProcessing file FileInfo(path=&apos;dbfs:/mnt/taxi/csv/yellow/2012-06.csv&apos;, name=&apos;2012-06.csv&apos;, size=2799672092)\nProcessing file FileInfo(path=&apos;dbfs:/mnt/taxi/csv/yellow/2012-07.csv&apos;, name=&apos;2012-07.csv&apos;, size=2666615247)\nProcessing file FileInfo(path=&apos;dbfs:/mnt/taxi/csv/yellow/2012-08.csv&apos;, name=&apos;2012-08.csv&apos;, size=2665989916)\nProcessing file FileInfo(path=&apos;dbfs:/mnt/taxi/csv/yellow/2012-09.csv&apos;, name=&apos;2012-09.csv&apos;, size=2451418620)\nProcessing file FileInfo(path=&apos;dbfs:/mnt/taxi/csv/yellow/2012-10.csv&apos;, name=&apos;2012-10.csv&apos;, size=2427037091)\nProcessing file FileInfo(path=&apos;dbfs:/mnt/taxi/csv/yellow/2012-11.csv&apos;, name=&apos;2012-11.csv&apos;, size=2299132130)\nProcessing file FileInfo(path=&apos;dbfs:/mnt/taxi/csv/yellow/2012-12.csv&apos;, name=&apos;2012-12.csv&apos;, size=2454427349)\nProcessing file FileInfo(path=&apos;dbfs:/mnt/taxi/csv/yellow/2013-01.csv&apos;, name=&apos;2013-01.csv&apos;, size=2472351469)\nProcessing file FileInfo(path=&apos;dbfs:/mnt/taxi/csv/yellow/2013-02.csv&apos;, name=&apos;2013-02.csv&apos;, size=2344381323)\nProcessing file FileInfo(path=&apos;dbfs:/mnt/taxi/csv/yellow/2013-03.csv&apos;, name=&apos;2013-03.csv&apos;, size=2639810975)\nProcessing file FileInfo(path=&apos;dbfs:/mnt/taxi/csv/yellow/2013-04.csv&apos;, name=&apos;2013-04.csv&apos;, size=2533430839)\nProcessing file FileInfo(path=&apos;dbfs:/mnt/taxi/csv/yellow/2013-05.csv&apos;, name=&apos;2013-05.csv&apos;, size=2565221965)\nProcessing file FileInfo(path=&apos;dbfs:/mnt/taxi/csv/yellow/2013-06.csv&apos;, name=&apos;2013-06.csv&apos;, size=2417268120)\nProcessing file FileInfo(path=&apos;dbfs:/mnt/taxi/csv/yellow/2013-07.csv&apos;, name=&apos;2013-07.csv&apos;, size=2322372042)\nProcessing file FileInfo(path=&apos;dbfs:/mnt/taxi/csv/yellow/2013-08.csv&apos;, name=&apos;2013-08.csv&apos;, size=2103004295)\nProcessing file FileInfo(path=&apos;dbfs:/mnt/taxi/csv/yellow/2013-09.csv&apos;, name=&apos;2013-09.csv&apos;, size=2380395466)\nProcessing file FileInfo(path=&apos;dbfs:/mnt/taxi/csv/yellow/2013-10.csv&apos;, name=&apos;2013-10.csv&apos;, size=2532937359)\nProcessing file FileInfo(path=&apos;dbfs:/mnt/taxi/csv/yellow/2013-11.csv&apos;, name=&apos;2013-11.csv&apos;, size=2420444667)\nProcessing file FileInfo(path=&apos;dbfs:/mnt/taxi/csv/yellow/2013-12.csv&apos;, name=&apos;2013-12.csv&apos;, size=2350229417)\nProcessing file FileInfo(path=&apos;dbfs:/mnt/taxi/csv/yellow/2014-01.csv&apos;, name=&apos;2014-01.csv&apos;, size=2324817062)\nProcessing file FileInfo(path=&apos;dbfs:/mnt/taxi/csv/yellow/2014-02.csv&apos;, name=&apos;2014-02.csv&apos;, size=2205460986)\nProcessing file FileInfo(path=&apos;dbfs:/mnt/taxi/csv/yellow/2014-03.csv&apos;, name=&apos;2014-03.csv&apos;, size=2604044841)\nProcessing file FileInfo(path=&apos;dbfs:/mnt/taxi/csv/yellow/2014-04.csv&apos;, name=&apos;2014-04.csv&apos;, size=2463299452)\nProcessing file FileInfo(path=&apos;dbfs:/mnt/taxi/csv/yellow/2014-05.csv&apos;, name=&apos;2014-05.csv&apos;, size=2488952100)\nProcessing file FileInfo(path=&apos;dbfs:/mnt/taxi/csv/yellow/2014-06.csv&apos;, name=&apos;2014-06.csv&apos;, size=2326220589)\nProcessing file FileInfo(path=&apos;dbfs:/mnt/taxi/csv/yellow/2014-07.csv&apos;, name=&apos;2014-07.csv&apos;, size=2204602640)\nProcessing file FileInfo(path=&apos;dbfs:/mnt/taxi/csv/yellow/2014-08.csv&apos;, name=&apos;2014-08.csv&apos;, size=2133936569)\nProcessing file FileInfo(path=&apos;dbfs:/mnt/taxi/csv/yellow/2014-09.csv&apos;, name=&apos;2014-09.csv&apos;, size=2260069774)\nProcessing file FileInfo(path=&apos;dbfs:/mnt/taxi/csv/yellow/2014-10.csv&apos;, name=&apos;2014-10.csv&apos;, size=2409216587)\nProcessing file FileInfo(path=&apos;dbfs:/mnt/taxi/csv/yellow/2014-11.csv&apos;, name=&apos;2014-11.csv&apos;, size=2235168890)\nProcessing file FileInfo(path=&apos;dbfs:/mnt/taxi/csv/yellow/2014-12.csv&apos;, name=&apos;2014-12.csv&apos;, size=2198671160)\nProcessing file FileInfo(path=&apos;dbfs:/mnt/taxi/csv/yellow/2015-01.csv&apos;, name=&apos;2015-01.csv&apos;, size=1985964692)\nProcessing file FileInfo(path=&apos;dbfs:/mnt/taxi/csv/yellow/2015-02.csv&apos;, name=&apos;2015-02.csv&apos;, size=1945357622)\nProcessing file FileInfo(path=&apos;dbfs:/mnt/taxi/csv/yellow/2015-03.csv&apos;, name=&apos;2015-03.csv&apos;, size=2087971794)\nProcessing file FileInfo(path=&apos;dbfs:/mnt/taxi/csv/yellow/2015-04.csv&apos;, name=&apos;2015-04.csv&apos;, size=2046225765)\nProcessing file FileInfo(path=&apos;dbfs:/mnt/taxi/csv/yellow/2015-05.csv&apos;, name=&apos;2015-05.csv&apos;, size=2061869121)\nProcessing file FileInfo(path=&apos;dbfs:/mnt/taxi/csv/yellow/2015-06.csv&apos;, name=&apos;2015-06.csv&apos;, size=1932049357)\nProcessing file FileInfo(path=&apos;dbfs:/mnt/taxi/csv/yellow/2015-07.csv&apos;, name=&apos;2015-07.csv&apos;, size=1812530041)\nProcessing file FileInfo(path=&apos;dbfs:/mnt/taxi/csv/yellow/2015-08.csv&apos;, name=&apos;2015-08.csv&apos;, size=1744852237)\nProcessing file FileInfo(path=&apos;dbfs:/mnt/taxi/csv/yellow/2015-09.csv&apos;, name=&apos;2015-09.csv&apos;, size=1760412710)\nProcessing file FileInfo(path=&apos;dbfs:/mnt/taxi/csv/yellow/2015-10.csv&apos;, name=&apos;2015-10.csv&apos;, size=1931460927)\nProcessing file FileInfo(path=&apos;dbfs:/mnt/taxi/csv/yellow/2015-11.csv&apos;, name=&apos;2015-11.csv&apos;, size=1773468989)\nProcessing file FileInfo(path=&apos;dbfs:/mnt/taxi/csv/yellow/2015-12.csv&apos;, name=&apos;2015-12.csv&apos;, size=1796283025)\nProcessing file FileInfo(path=&apos;dbfs:/mnt/taxi/csv/yellow/2016-01.csv&apos;, name=&apos;2016-01.csv&apos;, size=1708674492)\nProcessing file FileInfo(path=&apos;dbfs:/mnt/taxi/csv/yellow/2016-02.csv&apos;, name=&apos;2016-02.csv&apos;, size=1783554554)\nProcessing file FileInfo(path=&apos;dbfs:/mnt/taxi/csv/yellow/2016-03.csv&apos;, name=&apos;2016-03.csv&apos;, size=1914669757)\nProcessing file FileInfo(path=&apos;dbfs:/mnt/taxi/csv/yellow/2016-04.csv&apos;, name=&apos;2016-04.csv&apos;, size=1872015980)\nProcessing file FileInfo(path=&apos;dbfs:/mnt/taxi/csv/yellow/2016-05.csv&apos;, name=&apos;2016-05.csv&apos;, size=1858526595)\nProcessing file FileInfo(path=&apos;dbfs:/mnt/taxi/csv/yellow/2016-06.csv&apos;, name=&apos;2016-06.csv&apos;, size=1748784180)\nProcessing file FileInfo(path=&apos;dbfs:/mnt/taxi/csv/yellow/2016-07.csv&apos;, name=&apos;2016-07.csv&apos;, size=927697979)\nProcessing file FileInfo(path=&apos;dbfs:/mnt/taxi/csv/yellow/2016-08.csv&apos;, name=&apos;2016-08.csv&apos;, size=895754268)\nProcessing file FileInfo(path=&apos;dbfs:/mnt/taxi/csv/yellow/2016-09.csv&apos;, name=&apos;2016-09.csv&apos;, size=912283443)\nProcessing file FileInfo(path=&apos;dbfs:/mnt/taxi/csv/yellow/2016-10.csv&apos;, name=&apos;2016-10.csv&apos;, size=978741144)\nProcessing file FileInfo(path=&apos;dbfs:/mnt/taxi/csv/yellow/2016-11.csv&apos;, name=&apos;2016-11.csv&apos;, size=910861791)\nProcessing file FileInfo(path=&apos;dbfs:/mnt/taxi/csv/yellow/2016-12.csv&apos;, name=&apos;2016-12.csv&apos;, size=941369997)\nProcessing file FileInfo(path=&apos;dbfs:/mnt/taxi/csv/yellow/2017-01.csv&apos;, name=&apos;2017-01.csv&apos;, size=854903002)\nProcessing file FileInfo(path=&apos;dbfs:/mnt/taxi/csv/yellow/2017-02.csv&apos;, name=&apos;2017-02.csv&apos;, size=808065449)\nProcessing file FileInfo(path=&apos;dbfs:/mnt/taxi/csv/yellow/2017-03.csv&apos;, name=&apos;2017-03.csv&apos;, size=907607519)\nProcessing file FileInfo(path=&apos;dbfs:/mnt/taxi/csv/yellow/2017-04.csv&apos;, name=&apos;2017-04.csv&apos;, size=885635901)\nProcessing file FileInfo(path=&apos;dbfs:/mnt/taxi/csv/yellow/2017-05.csv&apos;, name=&apos;2017-05.csv&apos;, size=890957221)\nProcessing file FileInfo(path=&apos;dbfs:/mnt/taxi/csv/yellow/2017-06.csv&apos;, name=&apos;2017-06.csv&apos;, size=851905495)\nProcessing file FileInfo(path=&apos;dbfs:/mnt/taxi/csv/yellow/2017-07.csv&apos;, name=&apos;2017-07.csv&apos;, size=757136529)\nProcessing file FileInfo(path=&apos;dbfs:/mnt/taxi/csv/yellow/2017-08.csv&apos;, name=&apos;2017-08.csv&apos;, size=742418400)\nProcessing file FileInfo(path=&apos;dbfs:/mnt/taxi/csv/yellow/2017-09.csv&apos;, name=&apos;2017-09.csv&apos;, size=789072355)\nProcessing file FileInfo(path=&apos;dbfs:/mnt/taxi/csv/yellow/2017-10.csv&apos;, name=&apos;2017-10.csv&apos;, size=861994850)\nProcessing file FileInfo(path=&apos;dbfs:/mnt/taxi/csv/yellow/2017-11.csv&apos;, name=&apos;2017-11.csv&apos;, size=819183872)\nProcessing file FileInfo(path=&apos;dbfs:/mnt/taxi/csv/yellow/2017-12.csv&apos;, name=&apos;2017-12.csv&apos;, size=838089408)\nProcessing file FileInfo(path=&apos;dbfs:/mnt/taxi/csv/yellow/2018-01.csv&apos;, name=&apos;2018-01.csv&apos;, size=772098307)\nProcessing file FileInfo(path=&apos;dbfs:/mnt/taxi/csv/yellow/2018-02.csv&apos;, name=&apos;2018-02.csv&apos;, size=748827487)\nProcessing file FileInfo(path=&apos;dbfs:/mnt/taxi/csv/yellow/2018-03.csv&apos;, name=&apos;2018-03.csv&apos;, size=831623580)\nProcessing file FileInfo(path=&apos;dbfs:/mnt/taxi/csv/yellow/2018-04.csv&apos;, name=&apos;2018-04.csv&apos;, size=821249453)\nProcessing file FileInfo(path=&apos;dbfs:/mnt/taxi/csv/yellow/2018-05.csv&apos;, name=&apos;2018-05.csv&apos;, size=814368922)\nProcessing file FileInfo(path=&apos;dbfs:/mnt/taxi/csv/yellow/2018-06.csv&apos;, name=&apos;2018-06.csv&apos;, size=769389923)\n</div>",
       "datasetInfos": [
        {
         "name": "raw_df",
         "schema": {
          "fields": [
           {
            "metadata": {},
            "name": "taxi_type",
            "nullable": false,
            "type": "string"
           },
           {
            "metadata": {},
            "name": "year",
            "nullable": true,
            "type": "integer"
           },
           {
            "metadata": {},
            "name": "filename",
            "nullable": false,
            "type": "string"
           },
           {
            "metadata": {},
            "name": "dispatching_base_num",
            "nullable": true,
            "type": "string"
           },
           {
            "metadata": {},
            "name": "vendor_id",
            "nullable": true,
            "type": "string"
           },
           {
            "metadata": {},
            "name": "vendor_name",
            "nullable": true,
            "type": "string"
           },
           {
            "metadata": {},
            "name": "pickup_datetime",
            "nullable": true,
            "type": "timestamp"
           },
           {
            "metadata": {},
            "name": "pickup_location_id",
            "nullable": true,
            "type": "string"
           },
           {
            "metadata": {},
            "name": "pickup_latitude",
            "nullable": true,
            "type": "decimal(9,5)"
           },
           {
            "metadata": {},
            "name": "pickup_longitude",
            "nullable": true,
            "type": "decimal(9,5)"
           },
           {
            "metadata": {},
            "name": "dropoff_datetime",
            "nullable": true,
            "type": "timestamp"
           },
           {
            "metadata": {},
            "name": "dropoff_location_id",
            "nullable": true,
            "type": "string"
           },
           {
            "metadata": {},
            "name": "dropoff_latitude",
            "nullable": true,
            "type": "decimal(9,5)"
           },
           {
            "metadata": {},
            "name": "dropoff_longitude",
            "nullable": true,
            "type": "decimal(9,5)"
           },
           {
            "metadata": {},
            "name": "passenger_count",
            "nullable": true,
            "type": "integer"
           },
           {
            "metadata": {},
            "name": "trip_distance",
            "nullable": true,
            "type": "decimal(9,5)"
           },
           {
            "metadata": {},
            "name": "trip_type",
            "nullable": true,
            "type": "string"
           },
           {
            "metadata": {},
            "name": "payment_type",
            "nullable": true,
            "type": "string"
           },
           {
            "metadata": {},
            "name": "rate_code",
            "nullable": true,
            "type": "string"
           },
           {
            "metadata": {},
            "name": "shared_ride",
            "nullable": true,
            "type": "string"
           },
           {
            "metadata": {},
            "name": "store_and_forward",
            "nullable": true,
            "type": "string"
           },
           {
            "metadata": {},
            "name": "fare_amount",
            "nullable": true,
            "type": "decimal(8,2)"
           },
           {
            "metadata": {},
            "name": "extra",
            "nullable": true,
            "type": "decimal(8,2)"
           },
           {
            "metadata": {},
            "name": "mta_tax",
            "nullable": true,
            "type": "decimal(8,2)"
           },
           {
            "metadata": {},
            "name": "tip_amount",
            "nullable": true,
            "type": "decimal(8,2)"
           },
           {
            "metadata": {},
            "name": "tolls_amount",
            "nullable": true,
            "type": "decimal(8,2)"
           },
           {
            "metadata": {},
            "name": "surcharge",
            "nullable": true,
            "type": "decimal(8,2)"
           },
           {
            "metadata": {},
            "name": "ehail_fee",
            "nullable": true,
            "type": "decimal(8,2)"
           },
           {
            "metadata": {},
            "name": "total_amount",
            "nullable": true,
            "type": "decimal(8,2)"
           }
          ],
          "type": "struct"
         },
         "tableIdentifier": null,
         "typeStr": "pyspark.sql.dataframe.DataFrame"
        }
       ],
       "metadata": {},
       "removedWidgets": [],
       "type": "html"
      }
     },
     "output_type": "display_data"
    }
   ],
   "source": [
    "import pyspark.sql.functions as pyf\n",
    "from pyspark.sql import Row\n",
    "\n",
    "all_files = getFiles(csv_path)\n",
    "\n",
    "target_cols = sqlContext.table(\"taxi\").dtypes\n",
    "\n",
    "# Loop through all of the CSV files\n",
    "for f in all_files:\n",
    "  print(\"Processing file {}\".format(f))\n",
    "  \n",
    "  taxi_type = f.path.split('/')[-2]\n",
    "  \n",
    "  # Use Spark to read the current CSV file into a dataframe and add some new columns\n",
    "  raw_df = spark\\\n",
    "            .read.option(\"header\", \"true\")\\\n",
    "            .csv(f.path)\\\n",
    "            .withColumn(\"filename\",  pyf.input_file_name())\\\n",
    "            .withColumn(\"taxi_type\", pyf.lit(taxi_type))\n",
    "  \n",
    "  # Remove spaces from column names and convert to lowercase\n",
    "  for n in raw_df.schema.names:\n",
    "    clean_name = n.strip().lower()\n",
    "    if n != clean_name:\n",
    "      raw_df = raw_df.withColumnRenamed(n, clean_name)\n",
    "  \n",
    "  # Convert columns to standard names\n",
    "  if \"dolocationid\"          in raw_df.schema.names: raw_df = raw_df.withColumnRenamed(\"dolocationid\", \"dropoff_location_id\")\n",
    "  if \"end_lat\"               in raw_df.schema.names: raw_df = raw_df.withColumnRenamed(\"end_lat\", \"dropoff_latitude\")\n",
    "  if \"end_lon\"               in raw_df.schema.names: raw_df = raw_df.withColumnRenamed(\"end_lon\", \"dropoff_longitude\")\n",
    "  if \"fare_amt\"              in raw_df.schema.names: raw_df = raw_df.withColumnRenamed(\"fare_amt\", \"fare_amount\")\n",
    "  if \"improvement_surcharge\" in raw_df.schema.names: raw_df = raw_df.withColumnRenamed(\"improvement_surcharge\", \"surcharge\")\n",
    "  if \"locationid\"            in raw_df.schema.names: raw_df = raw_df.withColumnRenamed(\"locationid\", \"pickup_location_id\")\n",
    "  if \"lpep_dropoff_datetime\" in raw_df.schema.names: raw_df = raw_df.withColumnRenamed(\"lpep_dropoff_datetime\", \"dropoff_datetime\")\n",
    "  if \"lpep_pickup_datetime\"  in raw_df.schema.names: raw_df = raw_df.withColumnRenamed(\"lpep_pickup_datetime\", \"pickup_datetime\")\n",
    "  if \"pickup_date\"           in raw_df.schema.names: raw_df = raw_df.withColumnRenamed(\"pickup_date\", \"pickup_datetime\")\n",
    "  if \"pulocationid\"          in raw_df.schema.names: raw_df = raw_df.withColumnRenamed(\"pulocationid\", \"pickup_location_id\")\n",
    "  if \"ratecodeid\"            in raw_df.schema.names: raw_df = raw_df.withColumnRenamed(\"ratecodeid\", \"rate_code\")\n",
    "  if \"sr_flag\"               in raw_df.schema.names: raw_df = raw_df.withColumnRenamed(\"sr_flag\", \"shared_ride\")\n",
    "  if \"start_lat\"             in raw_df.schema.names: raw_df = raw_df.withColumnRenamed(\"start_lat\", \"pickup_latitude\")\n",
    "  if \"start_lon\"             in raw_df.schema.names: raw_df = raw_df.withColumnRenamed(\"start_lon\", \"pickup_longitude\")\n",
    "  if \"store_and_fwd_flag\"    in raw_df.schema.names: raw_df = raw_df.withColumnRenamed(\"store_and_fwd_flag\", \"store_and_forward\")\n",
    "  if \"tip_amt\"               in raw_df.schema.names: raw_df = raw_df.withColumnRenamed(\"tip_amt\", \"tip_amount\")\n",
    "  if \"tolls_amt\"             in raw_df.schema.names: raw_df = raw_df.withColumnRenamed(\"tolls_amt\", \"tolls_amount\")\n",
    "  if \"total_amt\"             in raw_df.schema.names: raw_df = raw_df.withColumnRenamed(\"total_amt\", \"total_amount\")\n",
    "  if \"tpep_dropoff_datetime\" in raw_df.schema.names: raw_df = raw_df.withColumnRenamed(\"tpep_dropoff_datetime\", \"dropoff_datetime\")\n",
    "  if \"tpep_pickup_datetime\"  in raw_df.schema.names: raw_df = raw_df.withColumnRenamed(\"tpep_pickup_datetime\", \"pickup_datetime\")\n",
    "  if \"trip_dropoff_datetime\" in raw_df.schema.names: raw_df = raw_df.withColumnRenamed(\"trip_dropoff_datetime\", \"dropoff_datetime\")\n",
    "  if \"trip_pickup_datetime\"  in raw_df.schema.names: raw_df = raw_df.withColumnRenamed(\"trip_pickup_datetime\", \"pickup_datetime\")\n",
    "  if \"vendorid\"              in raw_df.schema.names: raw_df = raw_df.withColumnRenamed(\"vendorid\", \"vendor_id\")\n",
    "\n",
    "  # Parse datetime columns to a timestamp\n",
    "  for dt in raw_df.dtypes:\n",
    "    if dt[0].endswith(\"datetime\"):\n",
    "      raw_df = raw_df.withColumn(dt[0], pyf.to_timestamp(dt[0], 'yyyy-MM-dd HH:mm:ss'))\n",
    "  \n",
    "  # Add a \"year\" column\n",
    "  raw_df = raw_df.withColumn(\"year\", pyf.year(\"pickup_datetime\"))\n",
    "  \n",
    "  # Add missing columns\n",
    "  for tc in target_cols:\n",
    "    if tc[0] not in raw_df.schema.names:\n",
    "      raw_df = raw_df.withColumn(tc[0], pyf.lit(None))\n",
    "\n",
    "  # Make columns datatype match target\n",
    "  for tc in target_cols:\n",
    "    ac = next(x for x in raw_df.dtypes if x[0] == tc[0])\n",
    "    if ac[1] != tc[1]:\n",
    "      raw_df = raw_df.withColumn(ac[0], raw_df[ac[0]].cast(tc[1]))\n",
    "\n",
    "  # Reorder columns to match target\n",
    "  raw_df = raw_df.select([x[0] for x in target_cols])\n",
    "\n",
    "  raw_df.write.insertInto(\"taxi\", overwrite = False)"
   ]
  },
  {
   "cell_type": "markdown",
   "metadata": {
    "application/vnd.databricks.v1+cell": {
     "cellMetadata": {},
     "inputWidgets": {},
     "nuid": "82b2edc5-ed76-4873-a51a-844889b6b7b5",
     "showTitle": false,
     "title": ""
    }
   },
   "source": [
    "Because we loaded the CSV data into our table with multiple writes, we will have many small Parquet files.  Use Databricks Delta functionality to clean up those files and optimize\n",
    "the file layout."
   ]
  },
  {
   "cell_type": "code",
   "execution_count": 0,
   "metadata": {
    "application/vnd.databricks.v1+cell": {
     "cellMetadata": {},
     "inputWidgets": {},
     "nuid": "f174917e-699c-4084-9fe0-ee0664325968",
     "showTitle": false,
     "title": ""
    }
   },
   "outputs": [
    {
     "output_type": "display_data",
     "data": {
      "text/html": [
       "<style scoped>\n",
       "  .ansiout {\n",
       "    display: block;\n",
       "    unicode-bidi: embed;\n",
       "    white-space: pre-wrap;\n",
       "    word-wrap: break-word;\n",
       "    word-break: break-all;\n",
       "    font-family: \"Source Code Pro\", \"Menlo\", monospace;;\n",
       "    font-size: 13px;\n",
       "    color: #555;\n",
       "    margin-left: 4px;\n",
       "    line-height: 19px;\n",
       "  }\n",
       "</style>\n",
       "<div class=\"ansiout\"></div>"
      ]
     },
     "metadata": {
      "application/vnd.databricks.v1+output": {
       "addedWidgets": {},
       "arguments": {},
       "data": "<div class=\"ansiout\"></div>",
       "datasetInfos": [],
       "metadata": {},
       "removedWidgets": [],
       "type": "html"
      }
     },
     "output_type": "display_data"
    }
   ],
   "source": [
    "spark.sql(\"OPTIMIZE taxi ZORDER BY (pickup_datetime)\")\n",
    "\n",
    "spark.conf.set(\"spark.databricks.delta.retentionDurationCheck.enabled\", 'false')\n",
    "spark.sql(\"VACUUM taxi RETAIN 0 hours\")\n",
    "spark.conf.set(\"spark.databricks.delta.retentionDurationCheck.enabled\", 'true')"
   ]
  },
  {
   "cell_type": "markdown",
   "metadata": {
    "application/vnd.databricks.v1+cell": {
     "cellMetadata": {},
     "inputWidgets": {},
     "nuid": "1ca8e060-dca1-43f1-b448-fe61e31bad00",
     "showTitle": false,
     "title": ""
    }
   },
   "source": [
    "We're all done!  Now we just need to check our work to make sure everything looks good.\n",
    "\n",
    "First, read all of the CSV files at once and count the rows in them.  This will let us check below to make sure we got all of the data."
   ]
  },
  {
   "cell_type": "code",
   "execution_count": 0,
   "metadata": {
    "application/vnd.databricks.v1+cell": {
     "cellMetadata": {},
     "inputWidgets": {},
     "nuid": "1c435d96-40c7-48bb-a45d-92aaca967417",
     "showTitle": false,
     "title": ""
    }
   },
   "outputs": [
    {
     "output_type": "display_data",
     "data": {
      "text/html": [
       "<style scoped>\n",
       "  .ansiout {\n",
       "    display: block;\n",
       "    unicode-bidi: embed;\n",
       "    white-space: pre-wrap;\n",
       "    word-wrap: break-word;\n",
       "    word-break: break-all;\n",
       "    font-family: \"Source Code Pro\", \"Menlo\", monospace;;\n",
       "    font-size: 13px;\n",
       "    color: #555;\n",
       "    margin-left: 4px;\n",
       "    line-height: 19px;\n",
       "  }\n",
       "</style>\n",
       "<div class=\"ansiout\"><span class=\"ansired\">Out[</span><span class=\"ansired\">5</span><span class=\"ansired\">]: </span>&apos;2,061,783,136&apos;\n",
       "</div>"
      ]
     },
     "metadata": {
      "application/vnd.databricks.v1+output": {
       "addedWidgets": {},
       "arguments": {},
       "data": "<div class=\"ansiout\"><span class=\"ansired\">Out[</span><span class=\"ansired\">5</span><span class=\"ansired\">]: </span>&apos;2,061,783,136&apos;\n</div>",
       "datasetInfos": [
        {
         "name": "csv_df",
         "schema": {
          "fields": [
           {
            "metadata": {},
            "name": "Dispatching_base_num",
            "nullable": true,
            "type": "string"
           },
           {
            "metadata": {},
            "name": "Pickup_date",
            "nullable": true,
            "type": "string"
           },
           {
            "metadata": {},
            "name": "locationID",
            "nullable": true,
            "type": "string"
           }
          ],
          "type": "struct"
         },
         "tableIdentifier": null,
         "typeStr": "pyspark.sql.dataframe.DataFrame"
        }
       ],
       "metadata": {},
       "removedWidgets": [],
       "type": "html"
      }
     },
     "output_type": "display_data"
    }
   ],
   "source": [
    "csv_df = spark.read.option(\"header\", \"true\").csv(\"{}/*/*.csv\".format(csv_path))\n",
    "\"{:,}\".format(csv_df.count())"
   ]
  },
  {
   "cell_type": "markdown",
   "metadata": {
    "application/vnd.databricks.v1+cell": {
     "cellMetadata": {},
     "inputWidgets": {},
     "nuid": "3b51f6e0-f1c2-4f36-8db8-639f1912da1a",
     "showTitle": false,
     "title": ""
    }
   },
   "source": [
    "Now create a nice matrix that shows the number of rows by `year` and `taxi_data`.  Add a column that shows the total rows for each year and a summary row at the bottom that shows the\n",
    "number of rows for each taxi type.  The grand total in the bottom-right cell should match the total number of rows we read from CSV in the command above."
   ]
  },
  {
   "cell_type": "code",
   "execution_count": 0,
   "metadata": {
    "application/vnd.databricks.v1+cell": {
     "cellMetadata": {},
     "inputWidgets": {},
     "nuid": "bb67e258-519d-4633-ae49-01a338108745",
     "showTitle": false,
     "title": ""
    }
   },
   "outputs": [
    {
     "output_type": "display_data",
     "data": {
      "text/html": [
       "<style scoped>\n",
       "  .table-result-container {\n",
       "    max-height: 300px;\n",
       "    overflow: auto;\n",
       "  }\n",
       "  table, th, td {\n",
       "    border: 1px solid black;\n",
       "    border-collapse: collapse;\n",
       "  }\n",
       "  th, td {\n",
       "    padding: 5px;\n",
       "  }\n",
       "  th {\n",
       "    text-align: left;\n",
       "  }\n",
       "</style><div class='table-result-container'><table class='table-result'><thead style='background-color: white'><tr><th>year</th><th>fhv</th><th>green</th><th>yellow</th><th>total</th></tr></thead><tbody><tr><td>2001</td><td>0</td><td>0</td><td>10</td><td>10</td></tr><tr><td>2002</td><td>0</td><td>0</td><td>16</td><td>16</td></tr><tr><td>2003</td><td>0</td><td>0</td><td>16</td><td>16</td></tr><tr><td>2008</td><td>0</td><td>55</td><td>188</td><td>243</td></tr><tr><td>2009</td><td>0</td><td>109</td><td>170896408</td><td>170896517</td></tr><tr><td>2010</td><td>0</td><td>210</td><td>169001153</td><td>169001363</td></tr><tr><td>2011</td><td>0</td><td>0</td><td>176897208</td><td>176897208</td></tr><tr><td>2012</td><td>0</td><td>3</td><td>178544324</td><td>178544327</td></tr><tr><td>2013</td><td>0</td><td>1210811</td><td>173179759</td><td>174390570</td></tr><tr><td>2014</td><td>0</td><td>15837001</td><td>165114361</td><td>180951362</td></tr><tr><td>2015</td><td>63867609</td><td>19233765</td><td>146112989</td><td>229214363</td></tr><tr><td>2016</td><td>133285141</td><td>16385532</td><td>131165043</td><td>280835716</td></tr><tr><td>2017</td><td>192280677</td><td>11740514</td><td>113496932</td><td>317518123</td></tr><tr><td>2018</td><td>124871124</td><td>4737082</td><td>53925040</td><td>183533246</td></tr><tr><td>2019</td><td>0</td><td>1</td><td>29</td><td>30</td></tr><tr><td>2020</td><td>0</td><td>0</td><td>6</td><td>6</td></tr><tr><td>2026</td><td>0</td><td>0</td><td>2</td><td>2</td></tr><tr><td>2029</td><td>0</td><td>0</td><td>2</td><td>2</td></tr><tr><td>2031</td><td>0</td><td>0</td><td>2</td><td>2</td></tr><tr><td>2037</td><td>0</td><td>0</td><td>1</td><td>1</td></tr><tr><td>2041</td><td>0</td><td>0</td><td>2</td><td>2</td></tr><tr><td>2042</td><td>0</td><td>0</td><td>1</td><td>1</td></tr><tr><td>2053</td><td>0</td><td>0</td><td>1</td><td>1</td></tr><tr><td>2081</td><td>0</td><td>1</td><td>0</td><td>1</td></tr><tr><td>2084</td><td>0</td><td>0</td><td>8</td><td>8</td></tr><tr><td>total</td><td>514304551</td><td>69145084</td><td>1478333501</td><td>2061783136</td></tr></tbody></table></div>"
      ]
     },
     "metadata": {
      "application/vnd.databricks.v1+output": {
       "addedWidgets": {},
       "aggData": [],
       "aggError": "",
       "aggOverflow": false,
       "aggSchema": [],
       "aggSeriesLimitReached": false,
       "aggType": "",
       "arguments": {},
       "columnCustomDisplayInfos": {},
       "data": [
        [
         "2001",
         0,
         0,
         10,
         10
        ],
        [
         "2002",
         0,
         0,
         16,
         16
        ],
        [
         "2003",
         0,
         0,
         16,
         16
        ],
        [
         "2008",
         0,
         55,
         188,
         243
        ],
        [
         "2009",
         0,
         109,
         170896408,
         170896517
        ],
        [
         "2010",
         0,
         210,
         169001153,
         169001363
        ],
        [
         "2011",
         0,
         0,
         176897208,
         176897208
        ],
        [
         "2012",
         0,
         3,
         178544324,
         178544327
        ],
        [
         "2013",
         0,
         1210811,
         173179759,
         174390570
        ],
        [
         "2014",
         0,
         15837001,
         165114361,
         180951362
        ],
        [
         "2015",
         63867609,
         19233765,
         146112989,
         229214363
        ],
        [
         "2016",
         133285141,
         16385532,
         131165043,
         280835716
        ],
        [
         "2017",
         192280677,
         11740514,
         113496932,
         317518123
        ],
        [
         "2018",
         124871124,
         4737082,
         53925040,
         183533246
        ],
        [
         "2019",
         0,
         1,
         29,
         30
        ],
        [
         "2020",
         0,
         0,
         6,
         6
        ],
        [
         "2026",
         0,
         0,
         2,
         2
        ],
        [
         "2029",
         0,
         0,
         2,
         2
        ],
        [
         "2031",
         0,
         0,
         2,
         2
        ],
        [
         "2037",
         0,
         0,
         1,
         1
        ],
        [
         "2041",
         0,
         0,
         2,
         2
        ],
        [
         "2042",
         0,
         0,
         1,
         1
        ],
        [
         "2053",
         0,
         0,
         1,
         1
        ],
        [
         "2081",
         0,
         1,
         0,
         1
        ],
        [
         "2084",
         0,
         0,
         8,
         8
        ],
        [
         "total",
         514304551,
         69145084,
         1478333501,
         2061783136
        ]
       ],
       "datasetInfos": [
        {
         "name": "summary_row",
         "schema": {
          "fields": [
           {
            "metadata": {},
            "name": "year",
            "nullable": false,
            "type": "string"
           },
           {
            "metadata": {},
            "name": "fhv",
            "nullable": true,
            "type": "long"
           },
           {
            "metadata": {},
            "name": "green",
            "nullable": true,
            "type": "long"
           },
           {
            "metadata": {},
            "name": "yellow",
            "nullable": true,
            "type": "long"
           },
           {
            "metadata": {},
            "name": "total",
            "nullable": true,
            "type": "long"
           }
          ],
          "type": "struct"
         },
         "tableIdentifier": null,
         "typeStr": "pyspark.sql.dataframe.DataFrame"
        },
        {
         "name": "summary_df",
         "schema": {
          "fields": [
           {
            "metadata": {},
            "name": "year",
            "nullable": true,
            "type": "string"
           },
           {
            "metadata": {},
            "name": "fhv",
            "nullable": true,
            "type": "long"
           },
           {
            "metadata": {},
            "name": "green",
            "nullable": true,
            "type": "long"
           },
           {
            "metadata": {},
            "name": "yellow",
            "nullable": true,
            "type": "long"
           },
           {
            "metadata": {},
            "name": "total",
            "nullable": true,
            "type": "long"
           }
          ],
          "type": "struct"
         },
         "tableIdentifier": null,
         "typeStr": "pyspark.sql.dataframe.DataFrame"
        }
       ],
       "dbfsResultPath": null,
       "isJsonSchema": true,
       "metadata": {},
       "overflow": false,
       "plotOptions": {
        "customPlotOptions": {},
        "displayType": "table",
        "pivotAggregation": null,
        "pivotColumns": null,
        "xColumns": null,
        "yColumns": null
       },
       "removedWidgets": [],
       "schema": [
        {
         "metadata": "{}",
         "name": "year",
         "type": "\"string\""
        },
        {
         "metadata": "{}",
         "name": "fhv",
         "type": "\"long\""
        },
        {
         "metadata": "{}",
         "name": "green",
         "type": "\"long\""
        },
        {
         "metadata": "{}",
         "name": "yellow",
         "type": "\"long\""
        },
        {
         "metadata": "{}",
         "name": "total",
         "type": "\"long\""
        }
       ],
       "type": "table"
      }
     },
     "output_type": "display_data"
    }
   ],
   "source": [
    "import pyspark.sql.functions as pyf\n",
    "\n",
    "# Read the data that we read as parquet (even though it's actually a Delta table)\n",
    "spark.conf.set(\"spark.databricks.delta.formatCheck.enabled\", \"false\")\n",
    "parq_df = spark.read.parquet(parquet_path)\n",
    "spark.conf.set(\"spark.databricks.delta.formatCheck.enabled\", \"true\")\n",
    "\n",
    "# Summarize the row counts by year and taxi_type\n",
    "summary_df = parq_df\\\n",
    "              .withColumn(\"year\", pyf.col(\"year\").cast(\"string\"))\\\n",
    "              .groupBy(\"year\")\\\n",
    "              .pivot(\"taxi_type\")\\\n",
    "              .count()\\\n",
    "              .fillna(0)\\\n",
    "              .orderBy(\"year\")\n",
    "\n",
    "# Add a \"total\" column that shows the total counts for each year\n",
    "summary_df = summary_df.withColumn('total', sum(summary_df[col] for col in summary_df.columns if col != \"year\"))\n",
    "\n",
    "# Add a summary row that shows the total counts for each column\n",
    "exprs = [pyf.sum(x).alias(x) for x in summary_df.columns if x != \"year\"]\n",
    "summary_row = summary_df.agg(*exprs).selectExpr(\"'total' AS year\", \"*\")\n",
    "summary_df = summary_df.union(summary_row)\n",
    "\n",
    "display(summary_df)"
   ]
  },
  {
   "cell_type": "markdown",
   "metadata": {
    "application/vnd.databricks.v1+cell": {
     "cellMetadata": {},
     "inputWidgets": {},
     "nuid": "ce45d1ff-7a62-41bf-bb82-2c3cd7f0210b",
     "showTitle": false,
     "title": ""
    }
   },
   "source": [
    "Just for fun, add a visualization that shows the rowcounts by year.  This lets us see that yellow taxi rides are declining over time while FHV rides are exploding."
   ]
  },
  {
   "cell_type": "code",
   "execution_count": 0,
   "metadata": {
    "application/vnd.databricks.v1+cell": {
     "cellMetadata": {},
     "inputWidgets": {},
     "nuid": "93e7d462-5342-47cb-abc9-6d6c735346a4",
     "showTitle": false,
     "title": ""
    }
   },
   "outputs": [
    {
     "output_type": "display_data",
     "data": {
      "text/html": [
       "<style scoped>\n",
       "  .table-result-container {\n",
       "    max-height: 300px;\n",
       "    overflow: auto;\n",
       "  }\n",
       "  table, th, td {\n",
       "    border: 1px solid black;\n",
       "    border-collapse: collapse;\n",
       "  }\n",
       "  th, td {\n",
       "    padding: 5px;\n",
       "  }\n",
       "  th {\n",
       "    text-align: left;\n",
       "  }\n",
       "</style><div class='table-result-container'><table class='table-result'><thead style='background-color: white'><tr><th>year</th><th>fhv</th><th>green</th><th>yellow</th></tr></thead><tbody><tr><td>2009</td><td>null</td><td>109</td><td>170896408</td></tr><tr><td>2010</td><td>null</td><td>210</td><td>169001153</td></tr><tr><td>2011</td><td>null</td><td>null</td><td>176897208</td></tr><tr><td>2012</td><td>null</td><td>3</td><td>178544324</td></tr><tr><td>2013</td><td>null</td><td>1210811</td><td>173179759</td></tr><tr><td>2014</td><td>null</td><td>15837001</td><td>165114361</td></tr><tr><td>2015</td><td>63867609</td><td>19233765</td><td>146112989</td></tr><tr><td>2016</td><td>133285141</td><td>16385532</td><td>131165043</td></tr><tr><td>2017</td><td>192280677</td><td>11740514</td><td>113496932</td></tr><tr><td>2018</td><td>124871124</td><td>4737082</td><td>53925040</td></tr></tbody></table></div>"
      ]
     },
     "metadata": {
      "application/vnd.databricks.v1+output": {
       "addedWidgets": {},
       "aggData": [],
       "aggError": "",
       "aggOverflow": false,
       "aggSchema": [],
       "aggSeriesLimitReached": false,
       "aggType": "",
       "arguments": {},
       "columnCustomDisplayInfos": {},
       "data": [
        [
         2009,
         null,
         109,
         170896408
        ],
        [
         2010,
         null,
         210,
         169001153
        ],
        [
         2011,
         null,
         null,
         176897208
        ],
        [
         2012,
         null,
         3,
         178544324
        ],
        [
         2013,
         null,
         1210811,
         173179759
        ],
        [
         2014,
         null,
         15837001,
         165114361
        ],
        [
         2015,
         63867609,
         19233765,
         146112989
        ],
        [
         2016,
         133285141,
         16385532,
         131165043
        ],
        [
         2017,
         192280677,
         11740514,
         113496932
        ],
        [
         2018,
         124871124,
         4737082,
         53925040
        ]
       ],
       "datasetInfos": [],
       "dbfsResultPath": null,
       "isJsonSchema": true,
       "metadata": {},
       "overflow": false,
       "plotOptions": {
        "customPlotOptions": {
         "mgLine": [
          {
           "key": "param",
           "value": "{\"top\":20,\"bottom\":50,\"area\":false,\"missing_is_hidden\":true,\"legend_target\":\".dummy\",\"animate_on_load\":false,\"transition_on_update\":false,\"colors\":[\"#1f77b4\",\"#ff7f0e\",\"#2ca02c\",\"#d62728\",\"#9467bd\",\"#8c564b\",\"#e377c2\",\"#7f7f7f\",\"#bcbd22\",\"#17becf\",\"#aec7e8\",\"#ffbb78\",\"#98df8a\",\"#ff9896\",\"#c5b0d5\",\"#c49c94\",\"#f7b6d2\",\"#c7c7c7\",\"#dbdb8d\",\"#9edae5\"],\"x_label\":\"year\"}"
          }
         ]
        },
        "displayType": "mgLine",
        "pivotAggregation": "sum",
        "pivotColumns": [],
        "xColumns": [
         "year"
        ],
        "yColumns": [
         "fhv",
         "yellow",
         "green"
        ]
       },
       "removedWidgets": [],
       "schema": [
        {
         "metadata": "{}",
         "name": "year",
         "type": "\"integer\""
        },
        {
         "metadata": "{}",
         "name": "fhv",
         "type": "\"long\""
        },
        {
         "metadata": "{}",
         "name": "green",
         "type": "\"long\""
        },
        {
         "metadata": "{}",
         "name": "yellow",
         "type": "\"long\""
        }
       ],
       "type": "table"
      }
     },
     "output_type": "display_data"
    }
   ],
   "source": [
    "display(\n",
    "  parq_df\\\n",
    "    .filter(\"year BETWEEN 2009 AND 2018\")\\\n",
    "    .groupBy(\"year\")\\\n",
    "    .pivot(\"taxi_type\")\\\n",
    "    .count()\\\n",
    "    .orderBy(\"year\")\n",
    ")"
   ]
  }
 ],
 "metadata": {
  "application/vnd.databricks.v1+notebook": {
   "dashboards": [],
   "language": "python",
   "notebookMetadata": {
    "pythonIndentUnit": 2
   },
   "notebookName": "99 Convert CSV to Parquet",
   "widgets": {}
  }
 },
 "nbformat": 4,
 "nbformat_minor": 0
}
